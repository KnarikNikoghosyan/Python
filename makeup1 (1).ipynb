{
 "cells": [
  {
   "cell_type": "markdown",
   "id": "46df0813",
   "metadata": {},
   "source": [
    "**Խնդիր 1 (0.5 միավոր):** Սարքել list օբյեկտ, որի էլեմենտներն են $\\cos(1.0), \\cos(1.1), \\cos(1.2),... ,\\cos(9.9), \\cos(10.0)$ թվերը:"
   ]
  },
  {
   "cell_type": "code",
   "execution_count": 9,
   "id": "7776b7bd",
   "metadata": {},
   "outputs": [
    {
     "data": {
      "text/plain": [
       "[0.5403023058681398,\n",
       " 0.4535961214255773,\n",
       " 0.3623577544766734,\n",
       " 0.2674988286245871,\n",
       " 0.1699671429002406,\n",
       " 0.07073720166770246,\n",
       " -0.02919952230128926,\n",
       " -0.1288444942955253,\n",
       " -0.22720209469308775,\n",
       " -0.3232895668635042,\n",
       " -0.4161468365471432,\n",
       " -0.5048461045998582,\n",
       " -0.5885011172553466,\n",
       " -0.6662760212798251,\n",
       " -0.7373937155412463,\n",
       " -0.8011436155469345,\n",
       " -0.856888753368948,\n",
       " -0.9040721420170618,\n",
       " -0.9422223406686587,\n",
       " -0.9709581651495909,\n",
       " -0.9899924966004457,\n",
       " -0.9991351502732796,\n",
       " -0.998294775794753,\n",
       " -0.9874797699088645,\n",
       " -0.9667981925794604,\n",
       " -0.9364566872907956,\n",
       " -0.896758416334146,\n",
       " -0.8481000317104069,\n",
       " -0.7909677119144152,\n",
       " -0.7259323042001383,\n",
       " -0.6536436208636099,\n",
       " -0.5748239465332663,\n",
       " -0.4902608213406971,\n",
       " -0.400799172079973,\n",
       " -0.3073328699784168,\n",
       " -0.21079579943077623,\n",
       " -0.11215252693505134,\n",
       " -0.012388663462887896,\n",
       " 0.08749898343944994,\n",
       " 0.18651236942257923,\n",
       " 0.2836621854632297,\n",
       " 0.3779777427129835,\n",
       " 0.46851667130038027,\n",
       " 0.5543743361791644,\n",
       " 0.6346928759426373,\n",
       " 0.7086697742912625,\n",
       " 0.7755658785102524,\n",
       " 0.8347127848391622,\n",
       " 0.885519516941321,\n",
       " 0.9274784307440372,\n",
       " 0.9601702866503673,\n",
       " 0.9832684384425855,\n",
       " 0.9965420970232178,\n",
       " 0.9998586363834151,\n",
       " 0.9931849187581921,\n",
       " 0.9765876257280224,\n",
       " 0.9502325919585279,\n",
       " 0.9143831482353175,\n",
       " 0.8693974903498226,\n",
       " 0.8157251001253538,\n",
       " 0.7539022543433012,\n",
       " 0.6845466664428027,\n",
       " 0.6083513145322503,\n",
       " 0.5260775173811001,\n",
       " 0.4385473275743855,\n",
       " 0.34663531783502083,\n",
       " 0.2512598425822497,\n",
       " 0.15337386203785822,\n",
       " 0.05395542056264354,\n",
       " -0.04600212563954227,\n",
       " -0.14550003380862056,\n",
       " -0.24354415373579802,\n",
       " -0.33915486098384123,\n",
       " -0.4313768449706256,\n",
       " -0.5192886541166901,\n",
       " -0.6020119026848293,\n",
       " -0.6787200473200177,\n",
       " -0.7486466455974033,\n",
       " -0.8110930140616601,\n",
       " -0.8654352092411158,\n",
       " -0.9111302618846799,\n",
       " -0.9477216021311142,\n",
       " -0.9748436214041651,\n",
       " -0.9922253254526043,\n",
       " -0.9996930420352067,\n",
       " -0.9971721561963779,\n",
       " -0.9846878557941254,\n",
       " -0.9623648798313078,\n",
       " -0.9304262721047507,\n",
       " -0.8891911526253576,\n",
       " -0.8390715290764486]"
      ]
     },
     "execution_count": 9,
     "metadata": {},
     "output_type": "execute_result"
    }
   ],
   "source": [
    "import numpy as np\n",
    "my_list = []\n",
    "for i in np.arange(1,10.1,0.1):\n",
    "    my_list.append(np.cos(i))\n",
    "my_list"
   ]
  },
  {
   "cell_type": "markdown",
   "id": "5e558423",
   "metadata": {
    "slideshow": {
     "slide_type": "fragment"
    }
   },
   "source": [
    "**Խնդիր 2 (0.5 միավոր):** Գեներացնել 100 պատահական թիվ $[-2,2]$ հատվածի վրա հավասարաչափ բաշխումից, 100 թիվ ստանդարտ նորմալ բաշխումից, միավորել այս երկու զանգվածները և գծել միավորված զանգվածի Boxplot-ը:"
   ]
  },
  {
   "cell_type": "code",
   "execution_count": 4,
   "id": "69d50ce8",
   "metadata": {},
   "outputs": [
    {
     "data": {
      "image/png": "[encoded data removed]",
      "text/plain": [
       "<Figure size 432x288 with 1 Axes>"
      ]
     },
     "metadata": {
      "needs_background": "light"
     },
     "output_type": "display_data"
    }
   ],
   "source": [
    "import numpy as np\n",
    "import matplotlib.pyplot as plt\n",
    "\n",
    "rand1 = np.random.uniform(-2,2, 100)\n",
    "rand2 = np.random.randn(100)\n",
    "union = np.concatenate((rand1, rand2))\n",
    "plt.boxplot(union)\n",
    "plt.show()"
   ]
  },
  {
   "cell_type": "markdown",
   "id": "edda3d0b",
   "metadata": {},
   "source": [
    "**Խնդիր 3 (1 միավոր):** Կառուցել \n",
    "$$\n",
    "\\left\\{\n",
    "\\begin{array}{l}\n",
    "x = \\sin(2\\cdot t)\\\\\n",
    "y = \\cos(3\\cdot t)\n",
    "\\end{array}\n",
    "\\right.\n",
    "$$\n",
    "պարամետրական ֆունկցիայի գրաֆիկը $t\\in[0,2\\pi]$ հատվածում:"
   ]
  },
  {
   "cell_type": "code",
   "execution_count": 7,
   "id": "a8d2bb91",
   "metadata": {},
   "outputs": [
    {
     "data": {
      "text/plain": [
       "[<matplotlib.lines.Line2D at 0x26561392640>,\n",
       " <matplotlib.lines.Line2D at 0x26561392700>]"
      ]
     },
     "execution_count": 7,
     "metadata": {},
     "output_type": "execute_result"
    },
    {
     "data": {
      "image/png": "[encoded data removed]",
      "text/plain": [
       "<Figure size 432x288 with 1 Axes>"
      ]
     },
     "metadata": {
      "needs_background": "light"
     },
     "output_type": "display_data"
    }
   ],
   "source": [
    "t = np.linspace(0, 2*np.pi, 100)\n",
    "x = np.sin(2*t)\n",
    "y = np.cos(3*t)\n",
    "plt.plot(x,t,y,t)"
   ]
  },
  {
   "cell_type": "markdown",
   "id": "3a7148d4",
   "metadata": {},
   "source": [
    "**Խնդիր 4 (1 միավոր):** Ֆիքսել պատահական թվերի գեներատորի seed-ը՝ վերցնելով 12: Գեներացնել $Gamma(3,2)$ բաշխումից 200 հատ պատահական թիվ: Հաշվել ստացված զանգվածի կենտ ինդեքսով անդամների գումարը:"
   ]
  },
  {
   "cell_type": "code",
   "execution_count": 8,
   "id": "cafacf8f",
   "metadata": {},
   "outputs": [
    {
     "data": {
      "text/plain": [
       "591.9576270037076"
      ]
     },
     "execution_count": 8,
     "metadata": {},
     "output_type": "execute_result"
    }
   ],
   "source": [
    "a = np.random.seed(12)\n",
    "gam = np.random.gamma(3,2,200)\n",
    "sum(gam[::2])"
   ]
  },
  {
   "cell_type": "markdown",
   "id": "6d6a01af",
   "metadata": {},
   "source": [
    "**Խնդիր 5 (1 միավոր):** Գրել ֆունկցիա, որը որպես արգումենտ կընդունի սեղանի (երկրաչափական պատկեր) հիմքերի երկարություններն ու դրա բարձրությունը, և կվերադարձնի այդ սեղանի մակերեսի ու բարձրության քառակուսու մաքսիմումը՝\n",
    "$$\n",
    "\\max\\{Մակերես, բարձրություն^2\\}:\n",
    "$$"
   ]
  },
  {
   "cell_type": "code",
   "execution_count": 11,
   "id": "4f91a125",
   "metadata": {},
   "outputs": [
    {
     "data": {
      "text/plain": [
       "36"
      ]
     },
     "execution_count": 11,
     "metadata": {},
     "output_type": "execute_result"
    }
   ],
   "source": [
    "def trapezoid(a,b,h):\n",
    "    s = ((a+b)/2)*h\n",
    "    return max(s,h**2)\n",
    "trapezoid(2,4,6)"
   ]
  },
  {
   "cell_type": "markdown",
   "id": "58d5781d",
   "metadata": {},
   "source": [
    "**Խնդիր 6 (1 միավոր):** Գեներացնել 200 պատահական թիվ $\\mathcal{N}(-2,1.5^2)$ բաշխումից: Գրաֆիկական էկրանը բաժանել 2x2 մատրիցի տեսքով վանդակների, վերևի տողում նկարել գեներացված թվերի հիստոգրամն ու BoxPlot-ը, ներքևում՝ $\\mathcal{N}(-2,1.5^2)$ բաշխման խտության ու բաշխման ֆունկցիաները:"
   ]
  },
  {
   "cell_type": "markdown",
   "id": "65156c17",
   "metadata": {},
   "source": [
    "**Խնդիր 7 (1 միավոր):** Դիտարկենք հետևյալ պարագրաֆը.\n",
    "\n",
    "***\n",
    "Թվային շարքը կոչվում է զուգամետ, եթե շարքի մասնակի գումարների հաջորդականությունը զուգամետ է: Այդ շարքի գումար կոչվում է շարքի մասնակի գումարների հաջորդականության սահմանը: Եթե շարքի սկզբից մի քանի անդամ դեն նետենք, ապա այդ շարքի զուգամիտությունը չի փոխվի:\n",
    "***\n",
    "\n",
    "Հաշվել այս պարագրաֆում բոլոր բառերի քանակը և առանձնացնել բոլոր բառերը ինչ-որ list—ում:\n"
   ]
  },
  {
   "cell_type": "code",
   "execution_count": 5,
   "id": "9a7ef317",
   "metadata": {},
   "outputs": [
    {
     "name": "stdout",
     "output_type": "stream",
     "text": [
      "5\n",
      "['Թվային', 'շարքը', 'կոչվում', 'է', 'զուգամետ']\n"
     ]
    }
   ],
   "source": [
    "a = \"Թվային շարքը կոչվում է զուգամետ, եթե շարքի մասնակի գումարների հաջորդականությունը զուգամետ է: Այդ շարքի գումար կոչվում է շարքի մասնակի գումարների հաջորդականության սահմանը: Եթե շարքի սկզբից մի քանի անդամ դեն նետենք, ապա այդ շարքի զուգամիտությունը չի փոխվի\"\n",
    "a_string = \"Թվային շարքը կոչվում է զուգամետ\"\n",
    "word_list = a_string.split()\n",
    "number_of_words = len(word_list)\n",
    "print(number_of_words)\n",
    "print(word_list)"
   ]
  },
  {
   "cell_type": "markdown",
   "id": "4f84ad25",
   "metadata": {},
   "source": [
    "**Խնդիր 8 (1 միավոր):** Դիտարկենք հետևյալ հաջորդականությունը. $x_1 = 1$, $x_2=3$ և\n",
    "$$\n",
    "x_{n} = 4\\cdot x_{n-1} + 3\\cdot x_{n-2}, \\qquad n=3,4,...\n",
    "$$\n",
    "Գրել ֆունկցիա, որը տրված $n$-ի համար կվերադարձնի այս հաջորդականության $n$-րդ անդամը:\n"
   ]
  },
  {
   "cell_type": "code",
   "execution_count": 6,
   "id": "b347ce90",
   "metadata": {},
   "outputs": [
    {
     "name": "stdout",
     "output_type": "stream",
     "text": [
      "69\n"
     ]
    }
   ],
   "source": [
    "def f(n):\n",
    "    if n == 1:\n",
    "        return 1\n",
    "    elif n == 2:\n",
    "        return 3\n",
    "    else:\n",
    "        return 4*f(n-1)+3*f(n-2)\n",
    "print(f(4))"
   ]
  },
  {
   "cell_type": "markdown",
   "id": "9c1f9e49",
   "metadata": {},
   "source": [
    "**Խնդիր 9 (1.5 միավոր):** Գրել ֆունկցիա, որը տրված $x_k$, $k=1,...,n$ վերջավոր թվային հաջորդականության համար կհաշվի \n",
    "$$\n",
    "mad(x) = \\dfrac{\\sum_{k=1}^n |x_k-\\overline{x}|}{n}\n",
    "$$\n",
    "մեծությունը, ուր $\\overline{x}$-ը $x_n$-ի թվաբանական միջինն է:"
   ]
  },
  {
   "cell_type": "markdown",
   "id": "f5d500aa",
   "metadata": {},
   "source": [
    "**Խնդիր 10 (1.5 միավոր):** Հաշվել\n",
    "$$\n",
    "\\sum_{n=1}^\\infty \\tan\\dfrac{(-1)^n}{n^3}\n",
    "$$\n",
    "շարքի $20$-րդ մասնակի գումարը: Գնահատել շարքի գումարի և այս մասնակի գումարի տարբերության մոդուլը:"
   ]
  },
  {
   "cell_type": "code",
   "execution_count": 13,
   "id": "13b130b2",
   "metadata": {},
   "outputs": [],
   "source": [
    "x = [np.tan(((-1)**k)/k**3) for k in range(1,21)]"
   ]
  },
  {
   "cell_type": "code",
   "execution_count": 14,
   "id": "24899610",
   "metadata": {},
   "outputs": [
    {
     "data": {
      "text/plain": [
       "-1.4582532503105874"
      ]
     },
     "execution_count": 14,
     "metadata": {},
     "output_type": "execute_result"
    }
   ],
   "source": [
    "sum(x)"
   ]
  }
 ],
 "metadata": {
  "kernelspec": {
   "display_name": "Python 3",
   "language": "python",
   "name": "python3"
  },
  "language_info": {
   "codemirror_mode": {
    "name": "ipython",
    "version": 3
   },
   "file_extension": ".py",
   "mimetype": "text/x-python",
   "name": "python",
   "nbconvert_exporter": "python",
   "pygments_lexer": "ipython3",
   "version": "3.8.8"
  }
 },
 "nbformat": 4,
 "nbformat_minor": 5
}
