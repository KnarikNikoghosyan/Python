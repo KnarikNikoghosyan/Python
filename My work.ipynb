{
 "cells": [
  {
   "cell_type": "code",
   "execution_count": 1,
   "id": "32d1adf8",
   "metadata": {},
   "outputs": [],
   "source": [
    "import numpy as np\n",
    "import matplotlib.pyplot as plt"
   ]
  },
  {
   "cell_type": "code",
   "execution_count": 2,
   "id": "fb8c8bf1",
   "metadata": {},
   "outputs": [
    {
     "data": {
      "text/plain": [
       "10965"
      ]
     },
     "execution_count": 2,
     "metadata": {},
     "output_type": "execute_result"
    }
   ],
   "source": [
    "# problem 1\n",
    "# hashvel 1-ic minchev 255(neraryal) 3-i bajanvox bolor bnakan tveri gumary\n",
    "sum_ = 0\n",
    "for i in range(256):\n",
    "    if i % 3 == 0:\n",
    "        sum_ += i\n",
    "sum_"
   ]
  },
  {
   "cell_type": "code",
   "execution_count": 3,
   "id": "df238612",
   "metadata": {},
   "outputs": [
    {
     "data": {
      "text/plain": [
       "10965"
      ]
     },
     "execution_count": 3,
     "metadata": {},
     "output_type": "execute_result"
    }
   ],
   "source": [
    "# or\n",
    "s = 0\n",
    "for i in range(1,256):\n",
    "    if i%3==0:\n",
    "        s += i\n",
    "s"
   ]
  },
  {
   "cell_type": "code",
   "execution_count": 4,
   "id": "635a1df0",
   "metadata": {},
   "outputs": [
    {
     "data": {
      "image/png": "[encoded data removed]",
      "text/plain": [
       "<Figure size 432x288 with 1 Axes>"
      ]
     },
     "metadata": {
      "needs_background": "light"
     },
     "output_type": "display_data"
    }
   ],
   "source": [
    "# problem 2\n",
    "# erku tarber normal bashxumneric generacnel 100-akan patahakan tiv,miavorel stacvac zangvacnery\n",
    "# u karucel ays miavorman histogramy 25bin-ov\n",
    "normal1=np.random.randn(100)\n",
    "normal2=np.random.normal(size=100) \n",
    "union=np.concatenate((normal1, normal2))\n",
    "plt.hist(union, bins=25);"
   ]
  },
  {
   "cell_type": "code",
   "execution_count": 5,
   "id": "0a7544ed",
   "metadata": {},
   "outputs": [
    {
     "name": "stdout",
     "output_type": "stream",
     "text": [
      "Highest Grade have student BB\n"
     ]
    }
   ],
   "source": [
    "# problem 3\n",
    "# Usanoxneri gnahatakanneri masin trvac en hetevyal tvyalnery` AA-i gnahatakannern en 10,12,16,BB` 20,14,13,CC` 11,17,8,\n",
    "# DD` 8,9,8, tvyalnery nerkayacnel dictionary tesqov,ev gtnel amenabarcr mogov usanoxin(hashvel pythonov)\n",
    "grades = {\n",
    "      'AA': [10, 12, 16],\n",
    "      'BB': [20, 14, 13],\n",
    "      'CC': [11, 17, 8],\n",
    "      'DD': [8, 9, 8]\n",
    "}\n",
    "\n",
    "students_grades = []\n",
    "\n",
    "for i in grades:\n",
    "    students_grades.append(sum(grades[i]))\n",
    "       \n",
    "MOG = []\n",
    "\n",
    "for i in students_grades:\n",
    "    MOG.append(i / 3)\n",
    "\n",
    "max_MOG = max(MOG)\n",
    "index = MOG.index(max_MOG)  \n",
    "print(f\"Highest Grade have student {list(grades.keys())[index]}\")"
   ]
  },
  {
   "cell_type": "code",
   "execution_count": 6,
   "id": "400dea24",
   "metadata": {},
   "outputs": [
    {
     "name": "stdout",
     "output_type": "stream",
     "text": [
      "BB\n"
     ]
    }
   ],
   "source": [
    "# or\n",
    "students_grades={\n",
    "      'AA': [10,12,16],\n",
    "      'BB': [20,14,13],\n",
    "      'CC': [11,17,8],\n",
    "      'DD': [8,9,8]\n",
    "}\n",
    "\n",
    "students_grades_sum=[]\n",
    "for i in students_grades:\n",
    "    students_grades_sum.append(sum(students_grades[i]))\n",
    "mog=[]\n",
    "for i in students_grades_sum:\n",
    "    mog.append(i / 3)\n",
    "\n",
    "max_=max(mog)\n",
    "index=mog.index(max_)  \n",
    "print(list(students_grades.keys())[index])"
   ]
  },
  {
   "cell_type": "code",
   "execution_count": 7,
   "id": "601a2a09",
   "metadata": {},
   "outputs": [
    {
     "data": {
      "text/plain": [
       "3.181230632100844"
      ]
     },
     "execution_count": 7,
     "metadata": {},
     "output_type": "execute_result"
    }
   ],
   "source": [
    "# problem 4\n",
    "# fiqsel patahakan tveri generatori seed-y` vercnelov 10; Generacnel Exp(0.43) bashxumic 200 hat patahakan tiv\n",
    "# hashvel ayd tveri tvabanakan mijiny\n",
    "from scipy import stats\n",
    "x=np.random.seed(10)\n",
    "exp_distinction=stats.expon(1/(0.43))\n",
    "generacnel=exp_distinction.rvs(200)\n",
    "mean_=np.mean(generacnel)\n",
    "mean_"
   ]
  },
  {
   "cell_type": "code",
   "execution_count": 8,
   "id": "3a2a7498",
   "metadata": {},
   "outputs": [
    {
     "data": {
      "text/plain": [
       "0.36792917180336304"
      ]
     },
     "execution_count": 8,
     "metadata": {},
     "output_type": "execute_result"
    }
   ],
   "source": [
    "# or\n",
    "np.random.seed(10)\n",
    "y = np.random.exponential(0.43, 200)\n",
    "y.mean()"
   ]
  },
  {
   "cell_type": "markdown",
   "id": "701c27e9",
   "metadata": {},
   "source": [
    "# 5rd\n",
    "KARUCEL SIGMOID FUNKCIAYI GRAFIK\n",
    "$$\n",
    "\\sigma(x) = \\dfrac{1}{1+e^{-x}}, \\qquad x\\in[-3,3]\n",
    "$$"
   ]
  },
  {
   "cell_type": "code",
   "execution_count": 10,
   "id": "9785952b",
   "metadata": {},
   "outputs": [
    {
     "data": {
      "image/png": "[encoded data removed]",
      "text/plain": [
       "<Figure size 432x288 with 1 Axes>"
      ]
     },
     "metadata": {
      "needs_background": "light"
     },
     "output_type": "display_data"
    }
   ],
   "source": [
    "x = np.linspace(-3, 3, 100)\n",
    "y = 1 / (1 + np.exp(-x))\n",
    "plt.plot(x, y);"
   ]
  },
  {
   "cell_type": "code",
   "execution_count": 11,
   "id": "3bdc9941",
   "metadata": {},
   "outputs": [],
   "source": [
    "# kam\n",
    "def sigma(x):\n",
    "    for i in np.arange(-3,3.01,0.1):\n",
    "        k = (1/(1+np.exp(-x)))\n",
    "    return k"
   ]
  },
  {
   "cell_type": "code",
   "execution_count": 12,
   "id": "1dcd89ce",
   "metadata": {},
   "outputs": [],
   "source": [
    "x = np.arange(-3,3.01,0.1)"
   ]
  },
  {
   "cell_type": "code",
   "execution_count": 13,
   "id": "e6145725",
   "metadata": {},
   "outputs": [
    {
     "data": {
      "text/plain": [
       "[<matplotlib.lines.Line2D at 0x1bc395903d0>]"
      ]
     },
     "execution_count": 13,
     "metadata": {},
     "output_type": "execute_result"
    },
    {
     "data": {
      "image/png": "[encoded data removed]",
      "text/plain": [
       "<Figure size 432x288 with 1 Axes>"
      ]
     },
     "metadata": {
      "needs_background": "light"
     },
     "output_type": "display_data"
    }
   ],
   "source": [
    "y = sigma(x)\n",
    "plt.plot(x,y)"
   ]
  },
  {
   "cell_type": "code",
   "execution_count": 15,
   "id": "2cc76199",
   "metadata": {},
   "outputs": [
    {
     "data": {
      "image/png": "[encoded data removed]",
      "text/plain": [
       "<Figure size 432x288 with 1 Axes>"
      ]
     },
     "metadata": {
      "needs_background": "light"
     },
     "output_type": "display_data"
    }
   ],
   "source": [
    "# problem 5\n",
    "# KARUCEL FUNKCIAYI GRAFIK LOG OV\n",
    "x=np.linspace(-3, 3, 200)\n",
    "fx=np.log(1+np.exp(x))\n",
    "plt.plot(x, fx);"
   ]
  },
  {
   "cell_type": "code",
   "execution_count": 16,
   "id": "114e1ad8",
   "metadata": {},
   "outputs": [
    {
     "data": {
      "text/plain": [
       "1.6599530515492598"
      ]
     },
     "execution_count": 16,
     "metadata": {},
     "output_type": "execute_result"
    }
   ],
   "source": [
    "# problem 6\n",
    "# [-3,3] hatvaci vra havasarachap bashxumic generacnel 50 patahakan tiv\n",
    "# ev gtnel 10rd,22rd ev naxaverjin tveri gumary\n",
    "rand = np.random.uniform(size=50)\n",
    "sumofgiven = rand[10] + rand[22] + rand[-2]\n",
    "sumofgiven"
   ]
  },
  {
   "cell_type": "code",
   "execution_count": 19,
   "id": "7ed29fd7",
   "metadata": {},
   "outputs": [
    {
     "data": {
      "text/plain": [
       "0.10735671784834651"
      ]
     },
     "execution_count": 19,
     "metadata": {},
     "output_type": "execute_result"
    }
   ],
   "source": [
    "# problem 6,nmanatip e bayc normal bashxumic,150 patahakan tiv\n",
    "x=np.random.normal(0, 4, size=150)\n",
    "hatvacner=x[9]+x[21]+x[149]\n",
    "mean_x=np.mean(x)\n",
    "mean_x"
   ]
  },
  {
   "cell_type": "code",
   "execution_count": 20,
   "id": "04c17a28",
   "metadata": {},
   "outputs": [
    {
     "data": {
      "text/plain": [
       "'Թվային ՇԱՐՔԸ կոչվում է զուգամետ, եթե ՇԱՐՔԻ մասնակի գումարների հաջորդականությունը զուգամետ է: Այդ ՇԱՐՔԻ գումար կոչվում է ՇԱՐՔԻ մասնակի գումարների հաջորդականության սահմանը: Եթե ՇԱՐՔԻ սկզբից մի քանի անդամ դեն նետենք, ապա այդ ՇԱՐՔԻ զուգամիտությունը չի փոխվի:'"
      ]
     },
     "execution_count": 20,
     "metadata": {},
     "output_type": "execute_result"
    }
   ],
   "source": [
    "# problem 7\n",
    "# ditarkum enq paragraf\n",
    "# ayd paragrafum poxarinel sharq bary SHARQ ov(python ov)\n",
    "text = 'Թվային շարքը կոչվում է զուգամետ, եթե շարքի մասնակի գումարների հաջորդականությունը զուգամետ է: Այդ շարքի գումար կոչվում է շարքի մասնակի գումարների հաջորդականության սահմանը: Եթե շարքի սկզբից մի քանի անդամ դեն նետենք, ապա այդ շարքի զուգամիտությունը չի փոխվի:'\n",
    "for i in text.split(' '):\n",
    "    if 'շարք' in i:\n",
    "        upper  = i.upper()\n",
    "        text = text.replace(i, str(i.upper()))\n",
    "text"
   ]
  },
  {
   "cell_type": "code",
   "execution_count": 21,
   "id": "76840ab1",
   "metadata": {},
   "outputs": [],
   "source": [
    "# kam\n",
    "paragraf = 'Թվային շարքը կոչվում է զուգամետ, եթե շարքի մասնակի գումարների հաջորդականությունը զուգամետ է: Այդ շարքի գումար կոչվում է շարքի մասնակի գումարների հաջորդականության սահմանը: Եթե շարքի սկզբից մի քանի անդամ դեն նետենք, ապա այդ շարքի զուգամիտությունը չի փոխվի:'\n"
   ]
  },
  {
   "cell_type": "code",
   "execution_count": 22,
   "id": "6274b46e",
   "metadata": {},
   "outputs": [
    {
     "data": {
      "text/plain": [
       "'Թվային ՇԱՐՔը կոչվում է զուգամետ, եթե ՇԱՐՔի մասնակի գումարների հաջորդականությունը զուգամետ է: Այդ ՇԱՐՔի գումար կոչվում է ՇԱՐՔի մասնակի գումարների հաջորդականության սահմանը: Եթե ՇԱՐՔի սկզբից մի քանի անդամ դեն նետենք, ապա այդ ՇԱՐՔի զուգամիտությունը չի փոխվի:'"
      ]
     },
     "execution_count": 22,
     "metadata": {},
     "output_type": "execute_result"
    }
   ],
   "source": [
    "x = paragraf.replace(\"շարք\", \"ՇԱՐՔ\")\n",
    "x"
   ]
  },
  {
   "cell_type": "code",
   "execution_count": 23,
   "id": "9320a8ce",
   "metadata": {},
   "outputs": [
    {
     "data": {
      "text/plain": [
       "9"
      ]
     },
     "execution_count": 23,
     "metadata": {},
     "output_type": "execute_result"
    }
   ],
   "source": [
    "# problem 7,nmanatip\n",
    "# hashvum enq te qani angam e grvac sharq bary\n",
    "a = \"թվային շարք թվային շարք թվային շարք թվային շարք թվային շարք թվային շարք թվային շարք թվային շարք թվային շարք\"\n",
    "a.count('շարք')"
   ]
  },
  {
   "cell_type": "markdown",
   "id": "99063492",
   "metadata": {},
   "source": [
    "# problem 8\n",
    "# nkaragrel Fibonachii hajordakanutyuny\n",
    "Ֆիբոնաչիի հաջորդականության մեջ ամեն թիվը հավասար է իր նախորդող 2 թվերի գումարին"
   ]
  },
  {
   "cell_type": "code",
   "execution_count": 25,
   "id": "bd893e27",
   "metadata": {},
   "outputs": [
    {
     "name": "stdout",
     "output_type": "stream",
     "text": [
      "Input nubmer: 1\n",
      "0\n"
     ]
    }
   ],
   "source": [
    "# problem 8\n",
    "# grel funkcia vory trvac n-i hamar kveradarcni Fibonachii haj.-i n-rd andamy\n",
    "def fibonacci(n: int):\n",
    "    f1 = 0\n",
    "    f2 = 1\n",
    "    fibo = []\n",
    "    while f1 <= n:\n",
    "        fibo.append(f1)\n",
    "        f3 = f1 + f2\n",
    "        f1 = f2\n",
    "        f2 = f3\n",
    "    return fibo[n - 1] \n",
    "\n",
    "n = int(input(\"Input nubmer: \"))\n",
    "print(fibonacci(n))"
   ]
  },
  {
   "cell_type": "code",
   "execution_count": 27,
   "id": "599398cb",
   "metadata": {},
   "outputs": [
    {
     "name": "stdout",
     "output_type": "stream",
     "text": [
      "Enter a number: 1\n"
     ]
    },
    {
     "data": {
      "text/plain": [
       "2"
      ]
     },
     "execution_count": 27,
     "metadata": {},
     "output_type": "execute_result"
    }
   ],
   "source": [
    "# problem 8,nmanatip\n",
    "# n-rd u n+1-rd tveri gumary\n",
    "def Fibonacci(n):\n",
    "    if n < 0:\n",
    "        print(\"Incorrect input\")\n",
    "    elif n == 0:\n",
    "        return 0\n",
    " \n",
    "    elif n == 1 or n == 2:\n",
    "        return 1\n",
    " \n",
    "    else:\n",
    "        return Fibonacci(n-1) + Fibonacci(n-2)\n",
    "n=int(input(\"Enter a number: \"))\n",
    "sum_=Fibonacci(n)+Fibonacci(n+1)\n",
    "sum_"
   ]
  },
  {
   "cell_type": "code",
   "execution_count": 29,
   "id": "8d345303",
   "metadata": {},
   "outputs": [
    {
     "name": "stdout",
     "output_type": "stream",
     "text": [
      "Enter number of terms: 2\n",
      "1\n"
     ]
    }
   ],
   "source": [
    "# chisht grvac\n",
    "def Fib(x):\n",
    "   if x < 0:\n",
    "       print(\"Incorrect input\")\n",
    "   elif x == 0:\n",
    "       return 0\n",
    "   elif x == 1 or x == 2:\n",
    "       return 1\n",
    "   else:\n",
    "       return Fib(x-1) + Fib(x-2) #Logic for the fibonacci series\n",
    "\n",
    "x = int(input(\"Enter number of terms: \"))\n",
    "print(Fib(x))"
   ]
  },
  {
   "cell_type": "code",
   "execution_count": 30,
   "id": "31dcf6ea",
   "metadata": {},
   "outputs": [],
   "source": [
    "# grel funkcia,vory khashvi erankyan makeresy` vorpes mutqayin popoxakanner vercnelov erankyan koxmeri erkarutyunnery\n",
    "# matematikoren nkaragrel,te inch e trvac ev funkcian inch e hashvum"
   ]
  },
  {
   "cell_type": "markdown",
   "id": "0f1f8774",
   "metadata": {},
   "source": [
    "Մակերեսը հաշվում է Հերոնի բանաձևով, որտեղ p = $ \\frac{a+b+c}{2} $ դա կիսապարագիծն է և մակերեսը՝\n",
    "\n",
    "S = $\\sqrt{p\\cdot(p-a)\\cdot(p-b)\\cdot(p-c)}$"
   ]
  },
  {
   "cell_type": "code",
   "execution_count": 33,
   "id": "6034bb0b",
   "metadata": {},
   "outputs": [
    {
     "name": "stdout",
     "output_type": "stream",
     "text": [
      "Input 1 side: 3\n",
      "Input 2 side: 4\n",
      "Input 3 side: 5\n",
      "6.0\n"
     ]
    }
   ],
   "source": [
    "def area(a, b, c):\n",
    "    p = (a + b + c) / 2\n",
    "    s = ((p * (p - a) * (p -b) * (p -c))) ** 0.5\n",
    "    return s\n",
    "\n",
    "a = int(input(\"Input 1 side: \"))\n",
    "b = int(input(\"Input 2 side: \"))\n",
    "c = int(input(\"Input 3 side: \"))\n",
    "\n",
    "print(area(a, b, c))"
   ]
  },
  {
   "cell_type": "code",
   "execution_count": 32,
   "id": "4c6841d6",
   "metadata": {},
   "outputs": [
    {
     "name": "stdout",
     "output_type": "stream",
     "text": [
      "Input number: 5\n",
      "Input number: 7\n",
      "Input ankyun: 4\n"
     ]
    },
    {
     "data": {
      "text/plain": [
       "-26.488087335777486"
      ]
     },
     "execution_count": 32,
     "metadata": {},
     "output_type": "execute_result"
    }
   ],
   "source": [
    "# mek ayl xndir erankyan,ogtagorcelov erankyan makeresi 1/2absin(alfa) banadzevy\n",
    "def s(a, b, c):\n",
    "    S=a*b*np.sin(c)\n",
    "    return S\n",
    "\n",
    "a=float(input(\"Input number: \"))\n",
    "b=float(input(\"Input number: \"))\n",
    "c=float(input(\"Input ankyun: \"))\n",
    "\n",
    "s_=s(a, b, c)\n",
    "s_"
   ]
  },
  {
   "cell_type": "markdown",
   "id": "dbb47fcf",
   "metadata": {},
   "source": [
    "# problem 10\n",
    "$$\n",
    "\\dfrac{1}{2} - \\dfrac{3}{2^2}+\\dfrac{5}{2^3}-\\dfrac{7}{2^4}+...\n",
    "$$"
   ]
  },
  {
   "cell_type": "code",
   "execution_count": 34,
   "id": "579a8925",
   "metadata": {
    "scrolled": true
   },
   "outputs": [
    {
     "ename": "SyntaxError",
     "evalue": "invalid syntax (<ipython-input-34-ed7f2b7e09e7>, line 4)",
     "output_type": "error",
     "traceback": [
      "\u001b[1;36m  File \u001b[1;32m\"<ipython-input-34-ed7f2b7e09e7>\"\u001b[1;36m, line \u001b[1;32m4\u001b[0m\n\u001b[1;33m    $$\u001b[0m\n\u001b[1;37m    ^\u001b[0m\n\u001b[1;31mSyntaxError\u001b[0m\u001b[1;31m:\u001b[0m invalid syntax\n"
     ]
    }
   ],
   "source": [
    "# grel funkcia,vory khashvi ays sharqi masnaki gumary,minch ayn arajin andamy,vory bacardzak arjeqov poqr e trvac eps-ic\n",
    "# orinak,ete eps=0,44,apa arajin andamy,vory poqr e eps-ic bacardzak arjeqov` 7/2**4=0.4375 e\n",
    "# ev ays depqum funkcian piti veradarcni\n",
    "$$\n",
    "\\dfrac{1}{2} - \\dfrac{3}{2^2}+\\dfrac{5}{2^3} -\\dfrac{7}{2^4} = -0.0625\n",
    "$$"
   ]
  },
  {
   "cell_type": "code",
   "execution_count": 1,
   "id": "df1e4837",
   "metadata": {},
   "outputs": [
    {
     "name": "stdout",
     "output_type": "stream",
     "text": [
      "epsilion 0.5\n"
     ]
    },
    {
     "data": {
      "text/plain": [
       "0"
      ]
     },
     "execution_count": 1,
     "metadata": {},
     "output_type": "execute_result"
    }
   ],
   "source": [
    "eps = float(input(\"epsilion \"))\n",
    "a1 = 1/2\n",
    "s= 0 \n",
    "d = 1/2\n",
    "i = 2\n",
    "k = 2\n",
    "a5 = 1/2\n",
    "while abs(a5) < eps:\n",
    "    d = s\n",
    "    a5 = (-1)*(a1*1/2+i/2**k)\n",
    "    s = a1 + a5\n",
    "    i = i+2\n",
    "    k = k + 1\n",
    "    d = abs(s)-abs(d)\n",
    "s"
   ]
  },
  {
   "cell_type": "code",
   "execution_count": 1,
   "id": "0c8e0295",
   "metadata": {},
   "outputs": [],
   "source": [
    "# (0,1) parametrovy standart normal bashxum random.rand"
   ]
  }
 ],
 "metadata": {
  "kernelspec": {
   "display_name": "Python 3",
   "language": "python",
   "name": "python3"
  },
  "language_info": {
   "codemirror_mode": {
    "name": "ipython",
    "version": 3
   },
   "file_extension": ".py",
   "mimetype": "text/x-python",
   "name": "python",
   "nbconvert_exporter": "python",
   "pygments_lexer": "ipython3",
   "version": "3.8.8"
  }
 },
 "nbformat": 4,
 "nbformat_minor": 5
}
