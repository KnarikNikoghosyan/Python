{
 "cells": [
  {
   "cell_type": "markdown",
   "id": "40130035",
   "metadata": {},
   "source": [
    "**Խնդիր 1 (1 միավոր):**  Լուծել\n",
    "$$\n",
    "\\left\\{\n",
    "\\begin{array}{l}\n",
    "2x_1 - 4x_2 + x_3 = 1\\\\\n",
    "-x_1 + 5x_2 - 7x_3 = 0\\\\\n",
    "x_1 + x_2 + 3x_3 = -1\\\\\n",
    "\\end{array}\n",
    "\\right.\n",
    "$$\n",
    "հավասարումների համակարգը: Կառուցել այս համակարգի գլխավոր մատրիցի Singular Value Decomposition-ը:"
   ]
  },
  {
   "cell_type": "code",
   "execution_count": 1,
   "id": "397fb26a",
   "metadata": {},
   "outputs": [],
   "source": [
    "import numpy as np"
   ]
  },
  {
   "cell_type": "code",
   "execution_count": 3,
   "id": "26fa7186",
   "metadata": {},
   "outputs": [
    {
     "name": "stdout",
     "output_type": "stream",
     "text": [
      "[-0.01851852 -0.31481481 -0.22222222]\n"
     ]
    }
   ],
   "source": [
    "A = np.array([[2, -4, 1],[-1, 5, -7],[1, 1, 3]])\n",
    "B = np.array([1,0,-1])\n",
    "X = np.linalg.solve(A,B)\n",
    "print(X)"
   ]
  },
  {
   "cell_type": "markdown",
   "id": "e5fbb73b",
   "metadata": {},
   "source": [
    "**Խնդիր 2 (1 միավոր):** Կառուցել հետևյալ կետերը մոտարկող լավագույն գծային և քառակուսային բազմանդամները.\n",
    "$$\n",
    "(0,-2); (-2, 4); (3, 0); (4, 2)\n",
    "$$\n",
    "Գրաֆիկի վրա արտածել կետերը և այս բազմանդամների գրաֆիկները, տարբեր գույներով:"
   ]
  },
  {
   "cell_type": "code",
   "execution_count": 8,
   "id": "6fc4118d",
   "metadata": {},
   "outputs": [
    {
     "data": {
      "text/plain": [
       "[<matplotlib.lines.Line2D at 0x28f05b62bb0>]"
      ]
     },
     "execution_count": 8,
     "metadata": {},
     "output_type": "execute_result"
    },
    {
     "data": {
      "image/png": "[encoded data removed]",
      "text/plain": [
       "<Figure size 576x720 with 4 Axes>"
      ]
     },
     "metadata": {
      "needs_background": "light"
     },
     "output_type": "display_data"
    }
   ],
   "source": [
    "from scipy import stats\n",
    "import matplotlib.pyplot as plt\n",
    "\n",
    "x = np.linspace(-2,1.5**2,100)\n",
    "y1 = stats.norm.pdf(x)\n",
    "y2 = stats.norm.cdf(x)\n",
    "\n",
    "norm = np.random.normal(-2,1.5**2,200)\n",
    "fig,ax = plt.subplots(2,2,figsize=(8,10))\n",
    "ax[0,0].hist(norm)\n",
    "ax[0,1].boxplot(norm)\n",
    "ax[1,0].plot(x,y1)\n",
    "ax[1,1].plot(x,y2)"
   ]
  },
  {
   "cell_type": "markdown",
   "id": "86b98dce",
   "metadata": {},
   "source": [
    "**Խնդիր 3 (2 միավոր):** Ստեղծել `DataFrame`, որը կպարունակի մի քանի ուսանողների տվյալներ՝ անուն, ազգանուն, սեռ, մաթ. անալիզ 1-ի գնահատական, հանրահաշիվ 1-ի գնահատական: Հաշվել տղա ուսանողների մաթ. անալիզ 1-ի գնահատականների միջինը և համեմատել աղջիկ ուսանողների հանրահաշիվ 1 առարկայի գնահատականների միջինի հետ:"
   ]
  },
  {
   "cell_type": "code",
   "execution_count": 19,
   "id": "b459bb70",
   "metadata": {},
   "outputs": [
    {
     "name": "stdout",
     "output_type": "stream",
     "text": [
      "first name Knarik\n",
      "last name Nikoghosyan\n",
      "gender female\n",
      "math 7\n",
      "algebra 10\n",
      "first name Arno\n",
      "last name Gevorgyan\n",
      "gender male\n",
      "math 8\n",
      "algebra 1\n",
      "first name Haykanush\n",
      "last name Shahbazyan\n",
      "gender female\n",
      "math 1\n",
      "algebra 6\n",
      "men 8.0 equal women 8.0\n"
     ]
    }
   ],
   "source": [
    "import pandas as pd\n",
    "\n",
    "result = []\n",
    "for i in range(3):\n",
    "    student = []\n",
    "    first_name = input(\"first name \")\n",
    "    last_name = input(\"last name \")\n",
    "    gender = input(\"gender \")\n",
    "    math1 = int(input(\"math \"))\n",
    "    algebra1 = int(input(\"algebra \"))\n",
    "    student = [first_name,last_name,gender,math1,algebra1]\n",
    "    result.append(student)\n",
    "    \n",
    "df = pd.DataFrame(result, columns = [\"name\",\"last name\", \"gender\", \"math1\", \"alg1\"])\n",
    "men = df[df[\"gender\"] == \"male\"][\"math1\"].mean()\n",
    "women = df[df[\"gender\"] == \"female\"][\"alg1\"].mean()\n",
    "if men > women:\n",
    "    print(f\"men {men} > women {women}\")\n",
    "elif men == women:\n",
    "    print(f\"men {men} equal women {women}\")\n",
    "else:\n",
    "    print(f\"men {men} < women {women}\")"
   ]
  },
  {
   "cell_type": "markdown",
   "id": "07d438d2",
   "metadata": {},
   "source": [
    "**Խնդիր 4 (3 միավոր):** Այս խնդրում վիզուալիզացիայի համար անհրաժեշտ է օգտագործել `seaborn` գրադարանը: \n",
    "\n",
    "- Բեռնել [https://finance.yahoo.com/quote/AAPL/history?p=AAPL](https://finance.yahoo.com/quote/AAPL/history?p=AAPL) կայքից Apple ընկերության բաժնետոմսերի օրական գները, csv ֆորմատով՝ վերջին 5 տարվա համար:\n",
    "- Կարդալ բեռնված ֆայլը՝ DaaFrame ֆորմատով;\n",
    "- Արտածել տվյալների աղյուսակի (DataFrame-ի) չափերը՝ քանի դիտարկում կա ու քանի փոփոխական\n",
    "- Արտածել տվյալների աղյուսակի (DataFrame-ի) առաջին մի քանի տողերը\n",
    "- Արտածել 6-րդ օրվա տվյալները\n",
    "- պատկերել `Adj. Close` գնի ժամանակային շարքը, այսինքն՝ $x$ առանցքի վրա տվյալի ինդեքսն է, համարը, $y$ առանցքի վրա՝ դրա արժեքը:\n",
    "- Հաշվել `Adj. Close` գնի օրական log-եկամտաբերությունները՝\n",
    "$$\n",
    "\\ln \\dfrac{\\mbox{նոր գին}}{\\mbox{հին գին}}\n",
    "$$\n",
    "և կառուցել դրա հիստոգրամը:"
   ]
  },
  {
   "cell_type": "code",
   "execution_count": 10,
   "id": "389e8722",
   "metadata": {},
   "outputs": [],
   "source": [
    "import seaborn as sns\n",
    "import pandas as pd"
   ]
  },
  {
   "cell_type": "code",
   "execution_count": 11,
   "id": "a43479e4",
   "metadata": {},
   "outputs": [],
   "source": [
    "df = pd.read_csv(\"AAPL.csv\")"
   ]
  },
  {
   "cell_type": "code",
   "execution_count": 12,
   "id": "26a52e9a",
   "metadata": {},
   "outputs": [
    {
     "data": {
      "text/html": [
       "<div>\n",
       "<style scoped>\n",
       "    .dataframe tbody tr th:only-of-type {\n",
       "        vertical-align: middle;\n",
       "    }\n",
       "\n",
       "    .dataframe tbody tr th {\n",
       "        vertical-align: top;\n",
       "    }\n",
       "\n",
       "    .dataframe thead th {\n",
       "        text-align: right;\n",
       "    }\n",
       "</style>\n",
       "<table border=\"1\" class=\"dataframe\">\n",
       "  <thead>\n",
       "    <tr style=\"text-align: right;\">\n",
       "      <th></th>\n",
       "      <th>Date</th>\n",
       "      <th>Open</th>\n",
       "      <th>High</th>\n",
       "      <th>Low</th>\n",
       "      <th>Close</th>\n",
       "      <th>Adj Close</th>\n",
       "      <th>Volume</th>\n",
       "    </tr>\n",
       "  </thead>\n",
       "  <tbody>\n",
       "    <tr>\n",
       "      <th>0</th>\n",
       "      <td>2016-11-25</td>\n",
       "      <td>27.782499</td>\n",
       "      <td>27.967501</td>\n",
       "      <td>27.737499</td>\n",
       "      <td>27.947500</td>\n",
       "      <td>26.306477</td>\n",
       "      <td>45903600</td>\n",
       "    </tr>\n",
       "    <tr>\n",
       "      <th>1</th>\n",
       "      <td>2016-11-28</td>\n",
       "      <td>27.857500</td>\n",
       "      <td>28.117500</td>\n",
       "      <td>27.847500</td>\n",
       "      <td>27.892500</td>\n",
       "      <td>26.254702</td>\n",
       "      <td>108776000</td>\n",
       "    </tr>\n",
       "    <tr>\n",
       "      <th>2</th>\n",
       "      <td>2016-11-29</td>\n",
       "      <td>27.695000</td>\n",
       "      <td>28.007500</td>\n",
       "      <td>27.517500</td>\n",
       "      <td>27.865000</td>\n",
       "      <td>26.228819</td>\n",
       "      <td>114115200</td>\n",
       "    </tr>\n",
       "    <tr>\n",
       "      <th>3</th>\n",
       "      <td>2016-11-30</td>\n",
       "      <td>27.900000</td>\n",
       "      <td>28.049999</td>\n",
       "      <td>27.567499</td>\n",
       "      <td>27.629999</td>\n",
       "      <td>26.007618</td>\n",
       "      <td>144649200</td>\n",
       "    </tr>\n",
       "    <tr>\n",
       "      <th>4</th>\n",
       "      <td>2016-12-01</td>\n",
       "      <td>27.592501</td>\n",
       "      <td>27.735001</td>\n",
       "      <td>27.257500</td>\n",
       "      <td>27.372499</td>\n",
       "      <td>25.765238</td>\n",
       "      <td>148347600</td>\n",
       "    </tr>\n",
       "    <tr>\n",
       "      <th>...</th>\n",
       "      <td>...</td>\n",
       "      <td>...</td>\n",
       "      <td>...</td>\n",
       "      <td>...</td>\n",
       "      <td>...</td>\n",
       "      <td>...</td>\n",
       "      <td>...</td>\n",
       "    </tr>\n",
       "    <tr>\n",
       "      <th>1253</th>\n",
       "      <td>2021-11-17</td>\n",
       "      <td>151.000000</td>\n",
       "      <td>155.000000</td>\n",
       "      <td>150.990005</td>\n",
       "      <td>153.490005</td>\n",
       "      <td>153.490005</td>\n",
       "      <td>88807000</td>\n",
       "    </tr>\n",
       "    <tr>\n",
       "      <th>1254</th>\n",
       "      <td>2021-11-18</td>\n",
       "      <td>153.710007</td>\n",
       "      <td>158.669998</td>\n",
       "      <td>153.050003</td>\n",
       "      <td>157.869995</td>\n",
       "      <td>157.869995</td>\n",
       "      <td>137827700</td>\n",
       "    </tr>\n",
       "    <tr>\n",
       "      <th>1255</th>\n",
       "      <td>2021-11-19</td>\n",
       "      <td>157.649994</td>\n",
       "      <td>161.020004</td>\n",
       "      <td>156.529999</td>\n",
       "      <td>160.550003</td>\n",
       "      <td>160.550003</td>\n",
       "      <td>117147500</td>\n",
       "    </tr>\n",
       "    <tr>\n",
       "      <th>1256</th>\n",
       "      <td>2021-11-22</td>\n",
       "      <td>161.679993</td>\n",
       "      <td>165.699997</td>\n",
       "      <td>161.000000</td>\n",
       "      <td>161.020004</td>\n",
       "      <td>161.020004</td>\n",
       "      <td>117467900</td>\n",
       "    </tr>\n",
       "    <tr>\n",
       "      <th>1257</th>\n",
       "      <td>2021-11-23</td>\n",
       "      <td>161.119995</td>\n",
       "      <td>161.800003</td>\n",
       "      <td>159.059998</td>\n",
       "      <td>161.410004</td>\n",
       "      <td>161.410004</td>\n",
       "      <td>95933900</td>\n",
       "    </tr>\n",
       "  </tbody>\n",
       "</table>\n",
       "<p>1258 rows × 7 columns</p>\n",
       "</div>"
      ],
      "text/plain": [
       "            Date        Open        High         Low       Close   Adj Close  \\\n",
       "0     2016-11-25   27.782499   27.967501   27.737499   27.947500   26.306477   \n",
       "1     2016-11-28   27.857500   28.117500   27.847500   27.892500   26.254702   \n",
       "2     2016-11-29   27.695000   28.007500   27.517500   27.865000   26.228819   \n",
       "3     2016-11-30   27.900000   28.049999   27.567499   27.629999   26.007618   \n",
       "4     2016-12-01   27.592501   27.735001   27.257500   27.372499   25.765238   \n",
       "...          ...         ...         ...         ...         ...         ...   \n",
       "1253  2021-11-17  151.000000  155.000000  150.990005  153.490005  153.490005   \n",
       "1254  2021-11-18  153.710007  158.669998  153.050003  157.869995  157.869995   \n",
       "1255  2021-11-19  157.649994  161.020004  156.529999  160.550003  160.550003   \n",
       "1256  2021-11-22  161.679993  165.699997  161.000000  161.020004  161.020004   \n",
       "1257  2021-11-23  161.119995  161.800003  159.059998  161.410004  161.410004   \n",
       "\n",
       "         Volume  \n",
       "0      45903600  \n",
       "1     108776000  \n",
       "2     114115200  \n",
       "3     144649200  \n",
       "4     148347600  \n",
       "...         ...  \n",
       "1253   88807000  \n",
       "1254  137827700  \n",
       "1255  117147500  \n",
       "1256  117467900  \n",
       "1257   95933900  \n",
       "\n",
       "[1258 rows x 7 columns]"
      ]
     },
     "execution_count": 12,
     "metadata": {},
     "output_type": "execute_result"
    }
   ],
   "source": [
    "df"
   ]
  },
  {
   "cell_type": "code",
   "execution_count": 13,
   "id": "12b5ee18",
   "metadata": {},
   "outputs": [
    {
     "data": {
      "text/plain": [
       "(1258, 7)"
      ]
     },
     "execution_count": 13,
     "metadata": {},
     "output_type": "execute_result"
    }
   ],
   "source": [
    "df.shape"
   ]
  },
  {
   "cell_type": "code",
   "execution_count": 14,
   "id": "d2209027",
   "metadata": {},
   "outputs": [
    {
     "data": {
      "text/html": [
       "<div>\n",
       "<style scoped>\n",
       "    .dataframe tbody tr th:only-of-type {\n",
       "        vertical-align: middle;\n",
       "    }\n",
       "\n",
       "    .dataframe tbody tr th {\n",
       "        vertical-align: top;\n",
       "    }\n",
       "\n",
       "    .dataframe thead th {\n",
       "        text-align: right;\n",
       "    }\n",
       "</style>\n",
       "<table border=\"1\" class=\"dataframe\">\n",
       "  <thead>\n",
       "    <tr style=\"text-align: right;\">\n",
       "      <th></th>\n",
       "      <th>Date</th>\n",
       "      <th>Open</th>\n",
       "      <th>High</th>\n",
       "      <th>Low</th>\n",
       "      <th>Close</th>\n",
       "      <th>Adj Close</th>\n",
       "      <th>Volume</th>\n",
       "    </tr>\n",
       "  </thead>\n",
       "  <tbody>\n",
       "    <tr>\n",
       "      <th>0</th>\n",
       "      <td>2016-11-25</td>\n",
       "      <td>27.782499</td>\n",
       "      <td>27.967501</td>\n",
       "      <td>27.737499</td>\n",
       "      <td>27.947500</td>\n",
       "      <td>26.306477</td>\n",
       "      <td>45903600</td>\n",
       "    </tr>\n",
       "    <tr>\n",
       "      <th>1</th>\n",
       "      <td>2016-11-28</td>\n",
       "      <td>27.857500</td>\n",
       "      <td>28.117500</td>\n",
       "      <td>27.847500</td>\n",
       "      <td>27.892500</td>\n",
       "      <td>26.254702</td>\n",
       "      <td>108776000</td>\n",
       "    </tr>\n",
       "    <tr>\n",
       "      <th>2</th>\n",
       "      <td>2016-11-29</td>\n",
       "      <td>27.695000</td>\n",
       "      <td>28.007500</td>\n",
       "      <td>27.517500</td>\n",
       "      <td>27.865000</td>\n",
       "      <td>26.228819</td>\n",
       "      <td>114115200</td>\n",
       "    </tr>\n",
       "    <tr>\n",
       "      <th>3</th>\n",
       "      <td>2016-11-30</td>\n",
       "      <td>27.900000</td>\n",
       "      <td>28.049999</td>\n",
       "      <td>27.567499</td>\n",
       "      <td>27.629999</td>\n",
       "      <td>26.007618</td>\n",
       "      <td>144649200</td>\n",
       "    </tr>\n",
       "    <tr>\n",
       "      <th>4</th>\n",
       "      <td>2016-12-01</td>\n",
       "      <td>27.592501</td>\n",
       "      <td>27.735001</td>\n",
       "      <td>27.257500</td>\n",
       "      <td>27.372499</td>\n",
       "      <td>25.765238</td>\n",
       "      <td>148347600</td>\n",
       "    </tr>\n",
       "  </tbody>\n",
       "</table>\n",
       "</div>"
      ],
      "text/plain": [
       "         Date       Open       High        Low      Close  Adj Close  \\\n",
       "0  2016-11-25  27.782499  27.967501  27.737499  27.947500  26.306477   \n",
       "1  2016-11-28  27.857500  28.117500  27.847500  27.892500  26.254702   \n",
       "2  2016-11-29  27.695000  28.007500  27.517500  27.865000  26.228819   \n",
       "3  2016-11-30  27.900000  28.049999  27.567499  27.629999  26.007618   \n",
       "4  2016-12-01  27.592501  27.735001  27.257500  27.372499  25.765238   \n",
       "\n",
       "      Volume  \n",
       "0   45903600  \n",
       "1  108776000  \n",
       "2  114115200  \n",
       "3  144649200  \n",
       "4  148347600  "
      ]
     },
     "execution_count": 14,
     "metadata": {},
     "output_type": "execute_result"
    }
   ],
   "source": [
    "df.head()"
   ]
  },
  {
   "cell_type": "code",
   "execution_count": 15,
   "id": "61440c4e",
   "metadata": {},
   "outputs": [
    {
     "data": {
      "text/html": [
       "<div>\n",
       "<style scoped>\n",
       "    .dataframe tbody tr th:only-of-type {\n",
       "        vertical-align: middle;\n",
       "    }\n",
       "\n",
       "    .dataframe tbody tr th {\n",
       "        vertical-align: top;\n",
       "    }\n",
       "\n",
       "    .dataframe thead th {\n",
       "        text-align: right;\n",
       "    }\n",
       "</style>\n",
       "<table border=\"1\" class=\"dataframe\">\n",
       "  <thead>\n",
       "    <tr style=\"text-align: right;\">\n",
       "      <th></th>\n",
       "      <th>Date</th>\n",
       "      <th>Open</th>\n",
       "      <th>High</th>\n",
       "      <th>Low</th>\n",
       "      <th>Close</th>\n",
       "      <th>Adj Close</th>\n",
       "      <th>Volume</th>\n",
       "    </tr>\n",
       "  </thead>\n",
       "  <tbody>\n",
       "    <tr>\n",
       "      <th>1253</th>\n",
       "      <td>2021-11-17</td>\n",
       "      <td>151.000000</td>\n",
       "      <td>155.000000</td>\n",
       "      <td>150.990005</td>\n",
       "      <td>153.490005</td>\n",
       "      <td>153.490005</td>\n",
       "      <td>88807000</td>\n",
       "    </tr>\n",
       "    <tr>\n",
       "      <th>1254</th>\n",
       "      <td>2021-11-18</td>\n",
       "      <td>153.710007</td>\n",
       "      <td>158.669998</td>\n",
       "      <td>153.050003</td>\n",
       "      <td>157.869995</td>\n",
       "      <td>157.869995</td>\n",
       "      <td>137827700</td>\n",
       "    </tr>\n",
       "    <tr>\n",
       "      <th>1255</th>\n",
       "      <td>2021-11-19</td>\n",
       "      <td>157.649994</td>\n",
       "      <td>161.020004</td>\n",
       "      <td>156.529999</td>\n",
       "      <td>160.550003</td>\n",
       "      <td>160.550003</td>\n",
       "      <td>117147500</td>\n",
       "    </tr>\n",
       "    <tr>\n",
       "      <th>1256</th>\n",
       "      <td>2021-11-22</td>\n",
       "      <td>161.679993</td>\n",
       "      <td>165.699997</td>\n",
       "      <td>161.000000</td>\n",
       "      <td>161.020004</td>\n",
       "      <td>161.020004</td>\n",
       "      <td>117467900</td>\n",
       "    </tr>\n",
       "    <tr>\n",
       "      <th>1257</th>\n",
       "      <td>2021-11-23</td>\n",
       "      <td>161.119995</td>\n",
       "      <td>161.800003</td>\n",
       "      <td>159.059998</td>\n",
       "      <td>161.410004</td>\n",
       "      <td>161.410004</td>\n",
       "      <td>95933900</td>\n",
       "    </tr>\n",
       "  </tbody>\n",
       "</table>\n",
       "</div>"
      ],
      "text/plain": [
       "            Date        Open        High         Low       Close   Adj Close  \\\n",
       "1253  2021-11-17  151.000000  155.000000  150.990005  153.490005  153.490005   \n",
       "1254  2021-11-18  153.710007  158.669998  153.050003  157.869995  157.869995   \n",
       "1255  2021-11-19  157.649994  161.020004  156.529999  160.550003  160.550003   \n",
       "1256  2021-11-22  161.679993  165.699997  161.000000  161.020004  161.020004   \n",
       "1257  2021-11-23  161.119995  161.800003  159.059998  161.410004  161.410004   \n",
       "\n",
       "         Volume  \n",
       "1253   88807000  \n",
       "1254  137827700  \n",
       "1255  117147500  \n",
       "1256  117467900  \n",
       "1257   95933900  "
      ]
     },
     "execution_count": 15,
     "metadata": {},
     "output_type": "execute_result"
    }
   ],
   "source": [
    "df.tail()"
   ]
  },
  {
   "cell_type": "code",
   "execution_count": 16,
   "id": "fb4c6f53",
   "metadata": {},
   "outputs": [
    {
     "data": {
      "text/plain": [
       "Date         2016-12-05\n",
       "Open               27.5\n",
       "High            27.5075\n",
       "Low             27.0625\n",
       "Close           27.2775\n",
       "Adj Close     25.675812\n",
       "Volume        137298000\n",
       "Name: 6, dtype: object"
      ]
     },
     "execution_count": 16,
     "metadata": {},
     "output_type": "execute_result"
    }
   ],
   "source": [
    "df.iloc[6]"
   ]
  },
  {
   "cell_type": "code",
   "execution_count": 17,
   "id": "5d104776",
   "metadata": {},
   "outputs": [],
   "source": [
    "x = df.columns[5]"
   ]
  },
  {
   "cell_type": "code",
   "execution_count": 18,
   "id": "8667412f",
   "metadata": {},
   "outputs": [
    {
     "data": {
      "text/plain": [
       "[<matplotlib.lines.Line2D at 0x28f07ce9910>]"
      ]
     },
     "execution_count": 18,
     "metadata": {},
     "output_type": "execute_result"
    },
    {
     "data": {
      "image/png": "[encoded data removed]",
      "text/plain": [
       "<Figure size 432x288 with 1 Axes>"
      ]
     },
     "metadata": {
      "needs_background": "light"
     },
     "output_type": "display_data"
    }
   ],
   "source": [
    "x = df[\"Adj Close\"]\n",
    "y = df.index\n",
    "plt.plot(x,y)"
   ]
  },
  {
   "cell_type": "markdown",
   "id": "afe550c7",
   "metadata": {},
   "source": [
    "**Խնդիր 5 (3 միավոր):** \n",
    "\n",
    "- Սահմանել `car` դասը (class): Այս դասի ներկայացուցիչը նկարագրվում է `model`, `year`, `weight`, `horsepower` փոփոխականներով: Դասն ունի մի քանի մեթոդ \n",
    "\n",
    "    * `age`, որը հաշվում է (վերադարձնում է) ավտոմեքենայի տարիքը\n",
    "    * `wh`, որը հաշվվում է ավտոմեքենայի զանգվածի հարաբերությունը հզորությանը (ձիաուժերով)\n",
    "\n",
    "- Վերցնել `car` դասի որևէ օբյեկտ, ու հաշվել դրա `age`-ն ու `wh`-ը\n",
    "- Սահմանել `mersedes` ենթադասը՝ ժառանգված `car`-ից: `mersedes`-ը բնութագրվում է նաև `das`-ով (`S` դաս, `C` դաս), `gpk`(100 կմ-ի վրա ծախսված բենզինի քանակություն լիտրերով) փոփոխականներով: Դասն ունի մեկ մեթոդ.\n",
    "    * `calc`, որը հաշվվում է հետևյալ կերպ. եթե մեքենան `C` դասի է, ապա զանգվածը բազմապատկվում է gpk-ով, իսկ եթե `S` դասի է՝ զանգվածը բազմապատկվում է (gpk-2)-ով\n",
    "- Վերցնել `mersedes` դասի որևէ օբյեկտ, հաշվել դրա `age`-ը, `wh`-ն ու `calc`-ը\n",
    "\n"
   ]
  },
  {
   "cell_type": "code",
   "execution_count": 5,
   "id": "f1eec631",
   "metadata": {},
   "outputs": [
    {
     "name": "stdout",
     "output_type": "stream",
     "text": [
      "Car age is 20 wh is 7.368421052631579\n"
     ]
    },
    {
     "data": {
      "text/plain": [
       "('wh is 5.882352941176471', 'Car age is 3', 142.85714285714286)"
      ]
     },
     "execution_count": 5,
     "metadata": {},
     "output_type": "execute_result"
    }
   ],
   "source": [
    "import datetime\n",
    "\n",
    "class Car:\n",
    "    def __init__(self,model,year,weight,horsepower):\n",
    "        self.model = model\n",
    "        self.year = year\n",
    "        self.weight = weight\n",
    "        self.horsepower = horsepower\n",
    "        \n",
    "    def age(self):\n",
    "        this_year = datetime.datetime.today().year\n",
    "        car_age = this_year - self.year\n",
    "        return f\"Car age is {car_age}\"\n",
    "    \n",
    "    def wh(self):\n",
    "        res_wh = self.weight/self.horsepower\n",
    "        return f\"wh is {res_wh}\"\n",
    "\n",
    "    \n",
    "class Mercedes(Car):\n",
    "    def __init__(self,model,year,weight,horsepower,das,gpk):\n",
    "        super().__init__(model,year,weight,horsepower)\n",
    "        self.das = das\n",
    "        self.gpk = gpk\n",
    "    \n",
    "    def calc(self):\n",
    "        if self.das == \"C\":\n",
    "            res_c = self.weight / self.gpk\n",
    "            return res_c\n",
    "        elif self.das == \"S\":\n",
    "            res_s = self.weight / (self.gpk-2)\n",
    "            return res_s\n",
    "        \n",
    "bmw = Car(\"M3\",2001,1400,190)\n",
    "print(bmw.age(),bmw.wh())\n",
    "\n",
    "mercedes = Mercedes(\"yashik\",2018,2000,340,\"S\",16)\n",
    "mercedes.wh(),mercedes.age(),mercedes.calc()"
   ]
  }
 ],
 "metadata": {
  "kernelspec": {
   "display_name": "Python 3",
   "language": "python",
   "name": "python3"
  },
  "language_info": {
   "codemirror_mode": {
    "name": "ipython",
    "version": 3
   },
   "file_extension": ".py",
   "mimetype": "text/x-python",
   "name": "python",
   "nbconvert_exporter": "python",
   "pygments_lexer": "ipython3",
   "version": "3.8.8"
  }
 },
 "nbformat": 4,
 "nbformat_minor": 5
}
