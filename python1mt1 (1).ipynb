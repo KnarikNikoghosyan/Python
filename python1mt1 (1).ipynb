{
 "cells": [
  {
   "cell_type": "markdown",
   "id": "literary-roots",
   "metadata": {},
   "source": [
    "**Խնդիր 1 (0.5 միավոր):** Հաշվել 1-ից մինչ 255 (ներառյալ) 3-ի բաժանվող բոլոր բնական թվերի գումարը"
   ]
  },
  {
   "cell_type": "code",
   "execution_count": 1,
   "id": "00b62686",
   "metadata": {},
   "outputs": [
    {
     "data": {
      "text/plain": [
       "10965"
      ]
     },
     "execution_count": 1,
     "metadata": {},
     "output_type": "execute_result"
    }
   ],
   "source": [
    "count = 0\n",
    "for i in range(1,256):\n",
    "    if i % 3 == 0:\n",
    "        count += i\n",
    "count"
   ]
  },
  {
   "cell_type": "markdown",
   "id": "comparable-phenomenon",
   "metadata": {},
   "source": [
    "**Խնդիր 2 (0.5 միավոր):** Երկու տարբեր նորմալ բաշխումներից գեներացնել 100-ական պատահական թիվ, միավորել ստացված զանգվածները, ու կառուցել այս միավորման հիստոգրամը՝ 25 bin-ով:"
   ]
  },
  {
   "cell_type": "code",
   "execution_count": 6,
   "id": "c5bfcf54",
   "metadata": {},
   "outputs": [
    {
     "data": {
      "text/plain": [
       "(array([ 1.,  0.,  0.,  0.,  0.,  2.,  0.,  2., 10., 14., 18., 14., 22.,\n",
       "        26., 14., 18., 20., 13.,  4., 10.,  4.,  3.,  3.,  1.,  1.]),\n",
       " array([-15.8473211 , -14.55074833, -13.25417556, -11.95760279,\n",
       "        -10.66103002,  -9.36445725,  -8.06788448,  -6.77131171,\n",
       "         -5.47473894,  -4.17816617,  -2.8815934 ,  -1.58502063,\n",
       "         -0.28844786,   1.00812491,   2.30469768,   3.60127045,\n",
       "          4.89784322,   6.19441599,   7.49098876,   8.78756153,\n",
       "         10.0841343 ,  11.38070707,  12.67727984,  13.97385261,\n",
       "         15.27042538,  16.56699815]),\n",
       " <BarContainer object of 25 artists>)"
      ]
     },
     "execution_count": 6,
     "metadata": {},
     "output_type": "execute_result"
    },
    {
     "data": {
      "image/png": "[encoded data removed]",
      "text/plain": [
       "<Figure size 432x288 with 1 Axes>"
      ]
     },
     "metadata": {
      "needs_background": "light"
     },
     "output_type": "display_data"
    }
   ],
   "source": [
    "import numpy as np\n",
    "import matplotlib.pyplot as plt\n",
    "a = np.random.normal(2,5,size = 100)\n",
    "b = np.random.normal(2,5,size = 100)\n",
    "union = np.concatenate((a, b))\n",
    "plt.hist(union, bins=25)"
   ]
  },
  {
   "cell_type": "markdown",
   "id": "golden-attribute",
   "metadata": {},
   "source": [
    "**Խնդիր 3 (1 միավոր):** Ուսանողների գնահատականների մասին տրված են հետևյալ տվյալները՝ AA-ի գնահատականներն են 10, 12, 16, BB-ինը՝ 20, 14, 13, CC-ինը՝ 11, 17, 8 և DD-ինը՝ 8, 9, 8: Տվյալները ներկայացնել dictionary-ի տեսքով և գտնել ամենաբարձր ՄՈԳ-ով ուսանողին (ոչ ձեռքով հաշվելով, այլ Python-ով):"
   ]
  },
  {
   "cell_type": "code",
   "execution_count": 9,
   "id": "3d80abbc",
   "metadata": {},
   "outputs": [
    {
     "data": {
      "text/plain": [
       "'BB'"
      ]
     },
     "execution_count": 9,
     "metadata": {},
     "output_type": "execute_result"
    }
   ],
   "source": [
    "import statistics\n",
    "students = {\"AA\": (10,12,16), \"BB\": (20,14,13), \"CC\" : (11,17,8), \"DD\": (8,9,8)}\n",
    "res = {i:statistics.mean(j) for i,j in students.items()}\n",
    "max(res,key = res.get)"
   ]
  },
  {
   "cell_type": "markdown",
   "id": "floppy-match",
   "metadata": {},
   "source": [
    "**Խնդիր 4 (0.5 միավոր):** Ֆիքսել պատահական թվերի գեներատորի seed-ը՝ վերցնելով 10: Գեներացնել $Exp(0.43)$ բաշխումից 200 հատ պատահական թիվ, հաշվել այդ թվերի թվաբանական միջինը:"
   ]
  },
  {
   "cell_type": "code",
   "execution_count": 15,
   "id": "2e329284",
   "metadata": {},
   "outputs": [
    {
     "name": "stdout",
     "output_type": "stream",
     "text": [
      "3.1812306321008443\n"
     ]
    }
   ],
   "source": [
    "import statistics\n",
    "from scipy import stats\n",
    "a=np.random.seed(10)\n",
    "exp_dist=stats.expon(1/(0.43))\n",
    "rsample=exp_dist.rvs(200)\n",
    "print(statistics.mean(rsample))"
   ]
  },
  {
   "cell_type": "markdown",
   "id": "hungry-simple",
   "metadata": {},
   "source": [
    "**Խնդիր 5 (1 միավոր):** Կառուցել \n",
    "$$\n",
    "\\sigma(x) = \\dfrac{1}{1+e^{-x}}, \\qquad x\\in[-3,3]\n",
    "$$\n",
    "(սիգմոիդ) ֆունկցիայի գրաֆիկը:"
   ]
  },
  {
   "cell_type": "markdown",
   "id": "sexual-holocaust",
   "metadata": {},
   "source": [
    "**Խնդիր 6 (1 միավոր):** $[-3,3]$ հատվածի վրա հավասարաչափ բաշխումից գեներացնել 50 պատահական թիվ, և գտնել 10-րդ, 22-րդ և նախավերջին թվերի գումարը:"
   ]
  },
  {
   "cell_type": "code",
   "execution_count": 16,
   "id": "1c9f820d",
   "metadata": {},
   "outputs": [
    {
     "data": {
      "text/plain": [
       "1.6599530515492598"
      ]
     },
     "execution_count": 16,
     "metadata": {},
     "output_type": "execute_result"
    }
   ],
   "source": [
    "rand = np.random.uniform(size=50)\n",
    "res = rand[10] + rand[22] + rand[-2]\n",
    "res"
   ]
  },
  {
   "cell_type": "markdown",
   "id": "assured-partner",
   "metadata": {},
   "source": [
    "**Խնդիր 7 (1.5 միավոր):** Դիտարկենք հետևյալ պարագրաֆը.\n",
    "\n",
    "***\n",
    "Թվային շարքը կոչվում է զուգամետ, եթե շարքի մասնակի գումարների հաջորդականությունը զուգամետ է: Այդ շարքի գումար կոչվում է շարքի մասնակի գումարների հաջորդականության սահմանը: Եթե շարքի սկզբից մի քանի անդամ դեն նետենք, ապա այդ շարքի զուգամիտությունը չի փոխվի:\n",
    "***\n",
    "\n",
    "Այս պարագրաֆում փոխարինել *շարք* բառը *ՇԱՐՔ*-ով (ոչ ձեռքով անելով, Python-ի միջոցով):\n"
   ]
  },
  {
   "cell_type": "code",
   "execution_count": 17,
   "id": "085eec92",
   "metadata": {},
   "outputs": [
    {
     "data": {
      "text/plain": [
       "'Թվային ՇԱՐՔը կոչվում է զուգամետ, եթե ՇԱՐՔի մասնակի գումարների հաջորդականությունը զուգամետ է: Այդ ՇԱՐՔի գումար կոչվում է ՇԱՐՔի մասնակի գումարների հաջորդականության սահմանը: Եթե ՇԱՐՔի սկզբից մի քանի անդամ դեն նետենք, ապա այդ ՇԱՐՔի զուգամիտությունը չի փոխվի:'"
      ]
     },
     "execution_count": 17,
     "metadata": {},
     "output_type": "execute_result"
    }
   ],
   "source": [
    "res = \"Թվային շարքը կոչվում է զուգամետ, եթե շարքի մասնակի գումարների հաջորդականությունը զուգամետ է: Այդ շարքի գումար կոչվում է շարքի մասնակի գումարների հաջորդականության սահմանը: Եթե շարքի սկզբից մի քանի անդամ դեն նետենք, ապա այդ շարքի զուգամիտությունը չի փոխվի:\"\n",
    "res.replace(\"շարք\", \"ՇԱՐՔ\")"
   ]
  },
  {
   "cell_type": "markdown",
   "id": "occupied-basic",
   "metadata": {},
   "source": [
    "**Խնդիր 8 (1 միավոր):** Գրել ֆունկցիա, որը տրված $n$-ի համար կվերադարձնի Ֆիբոնաչիի հաջորդականության $n$-րդ անդամը: Նախքան կոդը գրելը նկարագրել Ֆիբոնաչիի հաջորդականությունը:"
   ]
  },
  {
   "cell_type": "code",
   "execution_count": 19,
   "id": "14b3aa4c",
   "metadata": {},
   "outputs": [
    {
     "data": {
      "text/plain": [
       "3"
      ]
     },
     "execution_count": 19,
     "metadata": {},
     "output_type": "execute_result"
    }
   ],
   "source": [
    "0,1,1,2,3,5,8\n",
    "def fibonacci(n):\n",
    "    if n == 1:\n",
    "        return 0\n",
    "    if n == 2:\n",
    "        return 1\n",
    "    else:\n",
    "        return fibonacci(n-1) + fibonacci(n-2)\n",
    "fibonacci(5)"
   ]
  },
  {
   "cell_type": "markdown",
   "id": "south-stand",
   "metadata": {},
   "source": [
    "**Խնդիր 9 (1.5 միավոր):** Գրել ֆունկցիա, որը կհաշվի եռանկյան մակերեսը՝ որպես մուտքային փոփոխականներ վերցնելով եռանկյան կողմերի երկարությունները:\n",
    "\n",
    "Նախքան Python-ի կոդ գրելը՝ մաթեմատիկորեն նկարագրել, թե ինչ է տրված և ֆունկցիան ինչ է հաշվում:\n",
    "\n",
    "\n",
    "***Լրացուցիչ.*** Որպես լրացուցիչ խնդիր (ոչ պարտադիր), կարող եք ձեր գրած ֆունկցիան կատարելագործել՝ ընդգրկելով ստուգում - արդյո՞ք տրված թվերը կարող են լինել եռանկյան կողմերի երկարություններ, թե՞ ոչ:"
   ]
  },
  {
   "cell_type": "code",
   "execution_count": 22,
   "id": "b650f85f",
   "metadata": {},
   "outputs": [
    {
     "name": "stdout",
     "output_type": "stream",
     "text": [
      "6.0\n"
     ]
    }
   ],
   "source": [
    "import math\n",
    "def triangle_area(a,b,c):\n",
    "    s = (a + b + c)/2\n",
    "    res = math.sqrt(s*(s-a)*(s-b)*(s-c))\n",
    "    return res\n",
    "print(triangle_area(3,4,5))"
   ]
  },
  {
   "cell_type": "markdown",
   "id": "horizontal-needle",
   "metadata": {},
   "source": [
    "**Խնդիր 10 (1.5 միավոր):** Դիտարկենք հետևյալ շարքը.\n",
    "$$\n",
    "\\dfrac{1}{2} - \\dfrac{3}{2^2}+\\dfrac{5}{2^3}-\\dfrac{7}{2^4}+...\n",
    "$$\n",
    "Գրել ֆունկցիա, որը կհաշվի այս շարքի մասնակի գումարը մինչ այն առաջին անդամը, որը բացարձակ արժեքով փոքր է տրված eps-ից: Օրինակ, եթե eps = 0.44, ապա առաջին անդամը, որը փոքր է eps-ից բացարձակ արժեքով, $\\dfrac{7}{2^4}=0.4375$-ն է, և այս դեպքում ֆունկցիան պիտի վերադարձնի\n",
    "$$\n",
    "\\dfrac{1}{2} - \\dfrac{3}{2^2}+\\dfrac{5}{2^3} -\\dfrac{7}{2^4} = -0.0625\n",
    "$$"
   ]
  },
  {
   "cell_type": "code",
   "execution_count": null,
   "id": "5e002b9b",
   "metadata": {},
   "outputs": [],
   "source": []
  }
 ],
 "metadata": {
  "kernelspec": {
   "display_name": "Python 3",
   "language": "python",
   "name": "python3"
  },
  "language_info": {
   "codemirror_mode": {
    "name": "ipython",
    "version": 3
   },
   "file_extension": ".py",
   "mimetype": "text/x-python",
   "name": "python",
   "nbconvert_exporter": "python",
   "pygments_lexer": "ipython3",
   "version": "3.8.8"
  }
 },
 "nbformat": 4,
 "nbformat_minor": 5
}
