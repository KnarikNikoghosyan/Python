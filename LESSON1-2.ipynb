{
 "cells": [
  {
   "cell_type": "code",
   "execution_count": 2,
   "id": "synthetic-photographer",
   "metadata": {},
   "outputs": [],
   "source": [
    "import numpy as np\n",
    "import matplotlib.pyplot as plt\n",
    "import pandas as pd\n",
    "import seaborn as sns"
   ]
  },
  {
   "cell_type": "markdown",
   "id": "published-edmonton",
   "metadata": {},
   "source": [
    "**Խնդիր 1 (2 միավոր):** Դիցուք\n",
    "$$\n",
    "A = \\left[\n",
    "\\begin{array}{cc}\n",
    "-2 & 1\\\\\n",
    "4 & 3\n",
    "\\end{array}\n",
    "\\right],\n",
    "\\qquad b = \\left[\n",
    "\\begin{array}{c}\n",
    "1\\\\\n",
    "2\n",
    "\\end{array}\n",
    "\\right]:\n",
    "$$\n",
    "Հաշվել \n",
    "\n",
    " - $A$ մատրիցի դետերմինանտը, սեփական արժեքները, \n",
    " - լուծել $A\\cdot x = b$ գծային հավասարումների համակարգը,\n",
    " - ստուգել `Python`-ով, որ ստացված վեկտորն իրոք այդ գծային հավասարումների համակարգի լուծում է\n",
    " - Ստանալ $A$-ի սինգուլյար արժեքներով վերլուծությունը (Singular Value Decomposition)"
   ]
  },
  {
   "cell_type": "code",
   "execution_count": 2,
   "id": "indian-alpha",
   "metadata": {},
   "outputs": [],
   "source": [
    "a = np.array([-2, 1, 4, 3]).reshape(2,2)"
   ]
  },
  {
   "cell_type": "code",
   "execution_count": 5,
   "id": "impossible-agent",
   "metadata": {},
   "outputs": [],
   "source": [
    "b = np.array([1, 2]).reshape(2,1)"
   ]
  },
  {
   "cell_type": "code",
   "execution_count": 7,
   "id": "outside-inspiration",
   "metadata": {},
   "outputs": [
    {
     "data": {
      "text/plain": [
       "-10.000000000000002"
      ]
     },
     "execution_count": 7,
     "metadata": {},
     "output_type": "execute_result"
    }
   ],
   "source": [
    "np.linalg.det(a)"
   ]
  },
  {
   "cell_type": "code",
   "execution_count": 9,
   "id": "stopped-cathedral",
   "metadata": {},
   "outputs": [
    {
     "data": {
      "text/plain": [
       "(array([-2.70156212,  3.70156212]),\n",
       " array([[-0.81863069, -0.17275355],\n",
       "        [ 0.57432028, -0.98496508]]))"
      ]
     },
     "execution_count": 9,
     "metadata": {},
     "output_type": "execute_result"
    }
   ],
   "source": [
    "np.linalg.eig(a)"
   ]
  },
  {
   "cell_type": "code",
   "execution_count": 31,
   "id": "divided-blanket",
   "metadata": {},
   "outputs": [
    {
     "data": {
      "text/plain": [
       "array([[-0.1],\n",
       "       [ 0.8]])"
      ]
     },
     "execution_count": 31,
     "metadata": {},
     "output_type": "execute_result"
    }
   ],
   "source": [
    "x = np.linalg.solve(a,b)\n",
    "x"
   ]
  },
  {
   "cell_type": "code",
   "execution_count": 32,
   "id": "present-harris",
   "metadata": {},
   "outputs": [
    {
     "data": {
      "text/plain": [
       "array([[1.],\n",
       "       [2.]])"
      ]
     },
     "execution_count": 32,
     "metadata": {},
     "output_type": "execute_result"
    }
   ],
   "source": [
    "np.dot(a,x)"
   ]
  },
  {
   "cell_type": "code",
   "execution_count": 10,
   "id": "chemical-dover",
   "metadata": {},
   "outputs": [
    {
     "data": {
      "text/plain": [
       "(array([[-0.22975292,  0.97324899],\n",
       "        [ 0.97324899,  0.22975292]]),\n",
       " array([5.11667274, 1.95439508]),\n",
       " array([[ 0.85065081,  0.52573111],\n",
       "        [-0.52573111,  0.85065081]]))"
      ]
     },
     "execution_count": 10,
     "metadata": {},
     "output_type": "execute_result"
    }
   ],
   "source": [
    "np.linalg.svd(a)"
   ]
  },
  {
   "cell_type": "markdown",
   "id": "fourth-client",
   "metadata": {},
   "source": [
    "**Խնդիր 2 (2 միավոր):** Ստեղծել `DataFrame`, որը կպարունակի `PythonMT2Data1.xlsx` ֆայլում բերված աղյուսակը (առանց օգտագործելու `Pandas`-ի ֆայլ կարդալու հնարավորությունները, ստեղծել ինքնուրույն, զրոյից).\n",
    "\n",
    "- Որպես ինդեքս վերցնելով հերթական համարը\n",
    "- Որպես ինդեքս վերցնելով `Անուն` սյան պարունակությունը \n",
    "\n",
    "Երկու դեպքում էլ արտածել `Տարիք` սյունը:"
   ]
  },
  {
   "cell_type": "code",
   "execution_count": 80,
   "id": "aging-command",
   "metadata": {},
   "outputs": [],
   "source": [
    "l = [['Vardan', 20, 165, 16,], ['Ani', 19, 155, 17],['Shushan', 20, 160, 18]]"
   ]
  },
  {
   "cell_type": "code",
   "execution_count": 81,
   "id": "progressive-philosophy",
   "metadata": {},
   "outputs": [],
   "source": [
    "df = pd.DataFrame(l, columns = ['anun', 'tariq', 'hasak', 'gnahatakan'])"
   ]
  },
  {
   "cell_type": "code",
   "execution_count": 84,
   "id": "apart-explanation",
   "metadata": {},
   "outputs": [
    {
     "data": {
      "text/html": [
       "<div>\n",
       "<style scoped>\n",
       "    .dataframe tbody tr th:only-of-type {\n",
       "        vertical-align: middle;\n",
       "    }\n",
       "\n",
       "    .dataframe tbody tr th {\n",
       "        vertical-align: top;\n",
       "    }\n",
       "\n",
       "    .dataframe thead th {\n",
       "        text-align: right;\n",
       "    }\n",
       "</style>\n",
       "<table border=\"1\" class=\"dataframe\">\n",
       "  <thead>\n",
       "    <tr style=\"text-align: right;\">\n",
       "      <th></th>\n",
       "      <th>anun</th>\n",
       "      <th>tariq</th>\n",
       "      <th>hasak</th>\n",
       "      <th>gnahatakan</th>\n",
       "    </tr>\n",
       "  </thead>\n",
       "  <tbody>\n",
       "    <tr>\n",
       "      <th>0</th>\n",
       "      <td>Vardan</td>\n",
       "      <td>20</td>\n",
       "      <td>165</td>\n",
       "      <td>16</td>\n",
       "    </tr>\n",
       "    <tr>\n",
       "      <th>1</th>\n",
       "      <td>Ani</td>\n",
       "      <td>19</td>\n",
       "      <td>155</td>\n",
       "      <td>17</td>\n",
       "    </tr>\n",
       "    <tr>\n",
       "      <th>2</th>\n",
       "      <td>Shushan</td>\n",
       "      <td>20</td>\n",
       "      <td>160</td>\n",
       "      <td>18</td>\n",
       "    </tr>\n",
       "  </tbody>\n",
       "</table>\n",
       "</div>"
      ],
      "text/plain": [
       "      anun  tariq  hasak  gnahatakan\n",
       "0   Vardan     20    165          16\n",
       "1      Ani     19    155          17\n",
       "2  Shushan     20    160          18"
      ]
     },
     "execution_count": 84,
     "metadata": {},
     "output_type": "execute_result"
    }
   ],
   "source": [
    "df"
   ]
  },
  {
   "cell_type": "code",
   "execution_count": 86,
   "id": "dangerous-termination",
   "metadata": {},
   "outputs": [
    {
     "data": {
      "text/plain": [
       "0    20\n",
       "1    19\n",
       "2    20\n",
       "Name: tariq, dtype: int64"
      ]
     },
     "execution_count": 86,
     "metadata": {},
     "output_type": "execute_result"
    }
   ],
   "source": [
    "df.tariq"
   ]
  },
  {
   "cell_type": "code",
   "execution_count": 87,
   "id": "danish-bearing",
   "metadata": {},
   "outputs": [
    {
     "data": {
      "text/plain": [
       "anun\n",
       "Vardan     20\n",
       "Ani        19\n",
       "Shushan    20\n",
       "Name: tariq, dtype: int64"
      ]
     },
     "execution_count": 87,
     "metadata": {},
     "output_type": "execute_result"
    }
   ],
   "source": [
    "df.set_index('anun').tariq"
   ]
  },
  {
   "cell_type": "markdown",
   "id": "bronze-prague",
   "metadata": {},
   "source": [
    "**Խնդիր 3 (3 միավոր):** Այս խնդրում վիզուալիզացիայի համար անհրաժեշտ է օգտագործել `seaborn` գրադարանը.\n",
    "- Կարդալ կից բերված `PythonMT2Data2.csv` ֆայլի պարունակությունը `df` DataFrame-ում: Այս աղյուսակն իրենից ներկայացնում է մի քաղաքի որոշ բնակիչների տվյալներ՝ սրտային հիվանդությունների կանխատեսման համար հավաքված\n",
    "- Արտածել տվյալների աղյուսակի (DataFrame-ի) առաջին մի քանի տողերը\n",
    "- Արտածել 4-րդ մարդու տվյալները\n",
    "- պատկերել տարիքների բաշխումը (հիստոգրամը): Առանձնացնել կանանց ու տղամարդկանց համար տարիքների բաշխումը՝ իրար կից երկու տարբեր նկարներով ներկայացնելով\n",
    "- պատկերել ըստ կրթության մակարդակների բաշխումը, առանձին ըստ սեռերի\n",
    "- պատկերել Գլյուկոզայի չափի boxplot—ը՝ տրոհելով ըստ ներկայում ծխող-չծխողների, ու ըստ սեռերի\n",
    "- պատկերել սիստոլիկ ու դիաստոլիկ ճնշումների (`sysBP`, `diaBP` փոփոխականներ) կախվածության կապը (scatterplot-ի տարբերակը)"
   ]
  },
  {
   "cell_type": "code",
   "execution_count": 12,
   "id": "polar-vocabulary",
   "metadata": {},
   "outputs": [],
   "source": [
    "df = pd.read_csv(\"PythonMT2Data2.csv\")"
   ]
  },
  {
   "cell_type": "code",
   "execution_count": 14,
   "id": "liquid-external",
   "metadata": {},
   "outputs": [
    {
     "data": {
      "text/html": [
       "<div>\n",
       "<style scoped>\n",
       "    .dataframe tbody tr th:only-of-type {\n",
       "        vertical-align: middle;\n",
       "    }\n",
       "\n",
       "    .dataframe tbody tr th {\n",
       "        vertical-align: top;\n",
       "    }\n",
       "\n",
       "    .dataframe thead th {\n",
       "        text-align: right;\n",
       "    }\n",
       "</style>\n",
       "<table border=\"1\" class=\"dataframe\">\n",
       "  <thead>\n",
       "    <tr style=\"text-align: right;\">\n",
       "      <th></th>\n",
       "      <th>male</th>\n",
       "      <th>age</th>\n",
       "      <th>education</th>\n",
       "      <th>currentSmoker</th>\n",
       "      <th>cigsPerDay</th>\n",
       "      <th>BPMeds</th>\n",
       "      <th>prevalentStroke</th>\n",
       "      <th>prevalentHyp</th>\n",
       "      <th>diabetes</th>\n",
       "      <th>totChol</th>\n",
       "      <th>sysBP</th>\n",
       "      <th>diaBP</th>\n",
       "      <th>BMI</th>\n",
       "      <th>heartRate</th>\n",
       "      <th>glucose</th>\n",
       "      <th>TenYearCHD</th>\n",
       "    </tr>\n",
       "  </thead>\n",
       "  <tbody>\n",
       "    <tr>\n",
       "      <th>0</th>\n",
       "      <td>1</td>\n",
       "      <td>39</td>\n",
       "      <td>4.0</td>\n",
       "      <td>0</td>\n",
       "      <td>0.0</td>\n",
       "      <td>0.0</td>\n",
       "      <td>0</td>\n",
       "      <td>0</td>\n",
       "      <td>0</td>\n",
       "      <td>195.0</td>\n",
       "      <td>106.0</td>\n",
       "      <td>70.0</td>\n",
       "      <td>26.97</td>\n",
       "      <td>80.0</td>\n",
       "      <td>77.0</td>\n",
       "      <td>0</td>\n",
       "    </tr>\n",
       "    <tr>\n",
       "      <th>1</th>\n",
       "      <td>0</td>\n",
       "      <td>46</td>\n",
       "      <td>2.0</td>\n",
       "      <td>0</td>\n",
       "      <td>0.0</td>\n",
       "      <td>0.0</td>\n",
       "      <td>0</td>\n",
       "      <td>0</td>\n",
       "      <td>0</td>\n",
       "      <td>250.0</td>\n",
       "      <td>121.0</td>\n",
       "      <td>81.0</td>\n",
       "      <td>28.73</td>\n",
       "      <td>95.0</td>\n",
       "      <td>76.0</td>\n",
       "      <td>0</td>\n",
       "    </tr>\n",
       "    <tr>\n",
       "      <th>2</th>\n",
       "      <td>1</td>\n",
       "      <td>48</td>\n",
       "      <td>1.0</td>\n",
       "      <td>1</td>\n",
       "      <td>20.0</td>\n",
       "      <td>0.0</td>\n",
       "      <td>0</td>\n",
       "      <td>0</td>\n",
       "      <td>0</td>\n",
       "      <td>245.0</td>\n",
       "      <td>127.5</td>\n",
       "      <td>80.0</td>\n",
       "      <td>25.34</td>\n",
       "      <td>75.0</td>\n",
       "      <td>70.0</td>\n",
       "      <td>0</td>\n",
       "    </tr>\n",
       "    <tr>\n",
       "      <th>3</th>\n",
       "      <td>0</td>\n",
       "      <td>61</td>\n",
       "      <td>3.0</td>\n",
       "      <td>1</td>\n",
       "      <td>30.0</td>\n",
       "      <td>0.0</td>\n",
       "      <td>0</td>\n",
       "      <td>1</td>\n",
       "      <td>0</td>\n",
       "      <td>225.0</td>\n",
       "      <td>150.0</td>\n",
       "      <td>95.0</td>\n",
       "      <td>28.58</td>\n",
       "      <td>65.0</td>\n",
       "      <td>103.0</td>\n",
       "      <td>1</td>\n",
       "    </tr>\n",
       "    <tr>\n",
       "      <th>4</th>\n",
       "      <td>0</td>\n",
       "      <td>46</td>\n",
       "      <td>3.0</td>\n",
       "      <td>1</td>\n",
       "      <td>23.0</td>\n",
       "      <td>0.0</td>\n",
       "      <td>0</td>\n",
       "      <td>0</td>\n",
       "      <td>0</td>\n",
       "      <td>285.0</td>\n",
       "      <td>130.0</td>\n",
       "      <td>84.0</td>\n",
       "      <td>23.10</td>\n",
       "      <td>85.0</td>\n",
       "      <td>85.0</td>\n",
       "      <td>0</td>\n",
       "    </tr>\n",
       "  </tbody>\n",
       "</table>\n",
       "</div>"
      ],
      "text/plain": [
       "   male  age  education  currentSmoker  cigsPerDay  BPMeds  prevalentStroke  \\\n",
       "0     1   39        4.0              0         0.0     0.0                0   \n",
       "1     0   46        2.0              0         0.0     0.0                0   \n",
       "2     1   48        1.0              1        20.0     0.0                0   \n",
       "3     0   61        3.0              1        30.0     0.0                0   \n",
       "4     0   46        3.0              1        23.0     0.0                0   \n",
       "\n",
       "   prevalentHyp  diabetes  totChol  sysBP  diaBP    BMI  heartRate  glucose  \\\n",
       "0             0         0    195.0  106.0   70.0  26.97       80.0     77.0   \n",
       "1             0         0    250.0  121.0   81.0  28.73       95.0     76.0   \n",
       "2             0         0    245.0  127.5   80.0  25.34       75.0     70.0   \n",
       "3             1         0    225.0  150.0   95.0  28.58       65.0    103.0   \n",
       "4             0         0    285.0  130.0   84.0  23.10       85.0     85.0   \n",
       "\n",
       "   TenYearCHD  \n",
       "0           0  \n",
       "1           0  \n",
       "2           0  \n",
       "3           1  \n",
       "4           0  "
      ]
     },
     "execution_count": 14,
     "metadata": {},
     "output_type": "execute_result"
    }
   ],
   "source": [
    "df.head()"
   ]
  },
  {
   "cell_type": "code",
   "execution_count": 18,
   "id": "occupied-lesbian",
   "metadata": {},
   "outputs": [
    {
     "data": {
      "text/plain": [
       "male                 0.0\n",
       "age                 46.0\n",
       "education            3.0\n",
       "currentSmoker        1.0\n",
       "cigsPerDay          23.0\n",
       "BPMeds               0.0\n",
       "prevalentStroke      0.0\n",
       "prevalentHyp         0.0\n",
       "diabetes             0.0\n",
       "totChol            285.0\n",
       "sysBP              130.0\n",
       "diaBP               84.0\n",
       "BMI                 23.1\n",
       "heartRate           85.0\n",
       "glucose             85.0\n",
       "TenYearCHD           0.0\n",
       "Name: 4, dtype: float64"
      ]
     },
     "execution_count": 18,
     "metadata": {},
     "output_type": "execute_result"
    }
   ],
   "source": [
    "df.loc[4]"
   ]
  },
  {
   "cell_type": "code",
   "execution_count": 19,
   "id": "hourly-breach",
   "metadata": {},
   "outputs": [],
   "source": [
    "g = df.age"
   ]
  },
  {
   "cell_type": "code",
   "execution_count": 22,
   "id": "sexual-springfield",
   "metadata": {
    "scrolled": true
   },
   "outputs": [
    {
     "data": {
      "text/plain": [
       "(array([ 66., 490., 705., 651., 445., 566., 508., 439., 298.,  72.]),\n",
       " array([32. , 35.8, 39.6, 43.4, 47.2, 51. , 54.8, 58.6, 62.4, 66.2, 70. ]),\n",
       " <BarContainer object of 10 artists>)"
      ]
     },
     "execution_count": 22,
     "metadata": {},
     "output_type": "execute_result"
    },
    {
     "data": {
      "image/png": "[encoded data removed]",
      "text/plain": [
       "<Figure size 432x288 with 1 Axes>"
      ]
     },
     "metadata": {
      "needs_background": "light"
     },
     "output_type": "display_data"
    }
   ],
   "source": [
    "plt.hist(g)"
   ]
  },
  {
   "cell_type": "code",
   "execution_count": 26,
   "id": "distant-toner",
   "metadata": {},
   "outputs": [
    {
     "data": {
      "text/plain": [
       "<seaborn.axisgrid.FacetGrid at 0x22ab2561af0>"
      ]
     },
     "execution_count": 26,
     "metadata": {},
     "output_type": "execute_result"
    },
    {
     "data": {
      "image/png": "[encoded data removed]",
      "text/plain": [
       "<Figure size 720x360 with 2 Axes>"
      ]
     },
     "metadata": {
      "needs_background": "light"
     },
     "output_type": "display_data"
    }
   ],
   "source": [
    "sns.displot(x='age', data = df, kind = 'kde', fill = True, col ='male')"
   ]
  },
  {
   "cell_type": "code",
   "execution_count": 27,
   "id": "charitable-alexandria",
   "metadata": {},
   "outputs": [
    {
     "data": {
      "text/plain": [
       "<seaborn.axisgrid.FacetGrid at 0x22ab5405280>"
      ]
     },
     "execution_count": 27,
     "metadata": {},
     "output_type": "execute_result"
    },
    {
     "data": {
      "image/png": "[encoded data removed]",
      "text/plain": [
       "<Figure size 720x360 with 2 Axes>"
      ]
     },
     "metadata": {
      "needs_background": "light"
     },
     "output_type": "display_data"
    }
   ],
   "source": [
    "sns.displot(x='education', data = df, kind = 'kde', fill = True, col ='male')"
   ]
  },
  {
   "cell_type": "code",
   "execution_count": 28,
   "id": "defined-deputy",
   "metadata": {
    "scrolled": false
   },
   "outputs": [
    {
     "data": {
      "text/plain": [
       "<seaborn.axisgrid.FacetGrid at 0x22ab5454cd0>"
      ]
     },
     "execution_count": 28,
     "metadata": {},
     "output_type": "execute_result"
    },
    {
     "data": {
      "image/png": "[encoded data removed]",
      "text/plain": [
       "<Figure size 402.375x360 with 1 Axes>"
      ]
     },
     "metadata": {
      "needs_background": "light"
     },
     "output_type": "display_data"
    }
   ],
   "source": [
    "sns.catplot(x = 'currentSmoker', y = 'glucose', data = df, kind = 'box', hue = 'male')"
   ]
  },
  {
   "cell_type": "code",
   "execution_count": 30,
   "id": "instrumental-narrative",
   "metadata": {},
   "outputs": [
    {
     "data": {
      "text/plain": [
       "<AxesSubplot:xlabel='sysBP', ylabel='diaBP'>"
      ]
     },
     "execution_count": 30,
     "metadata": {},
     "output_type": "execute_result"
    },
    {
     "data": {
      "image/png": "[encoded data removed]",
      "text/plain": [
       "<Figure size 432x288 with 1 Axes>"
      ]
     },
     "metadata": {
      "needs_background": "light"
     },
     "output_type": "display_data"
    }
   ],
   "source": [
    "sns.scatterplot(x = 'sysBP', y = 'diaBP', data = df)"
   ]
  },
  {
   "cell_type": "markdown",
   "id": "wrong-printing",
   "metadata": {},
   "source": [
    "**Խնդիր 4 (3 միավոր):** \n",
    "\n",
    "- Սահմանել `human` դասը (class): Այս դասի ներկայացուցիչը նկարագրվում է `name`, `surname`, `age`, `height`, `mass` փոփոխականներով: Դասն ունի մի քանի մեթոդ \n",
    "\n",
    "    * `BodyMassIndex`, որը հաշվում է (վերադարձնում է) մարդու BMI ինդեքսը (բանաձևը բերված է [https://en.wikipedia.org/wiki/Body_mass_index#History](https://en.wikipedia.org/wiki/Body_mass_index#History) էջում)\n",
    "    * `WeightClass`, որը դասակարգում է մարդուն ըստ գիրության աստիճանների (տես [https://en.wikipedia.org/wiki/Body_mass_index#Categories](https://en.wikipedia.org/wiki/Body_mass_index#Categories) , առաջին աղյուսակը, `BMI($kg/m^2$)` սյունը)\n",
    "    \n",
    "- Վերցնել `human` դասի որևէ օբյեկտ, ու հաշվել նրա `BodyMassIndex`-ն ու `WeightClass`-ը\n",
    "- Սահմանել `student` ենթադասը՝ ժառանգված `human`-ից: `student`-ը բնութագրվում է նաև `institution` (ԲՈՒՀ), `faculty`(ֆակուլտետ), `degree` (բակալավր, մագիստրոս, ասպիրանտ), `year` (ուսումնառության տարին), `grades` (գնահատականներ) փոփոխականներով: Դասն ունի մեկ մեթոդ.\n",
    "    * `AverageGrade`, որը հաշվվում է ուսանողի գնահատականների թվաբանական միջինը\n",
    "- Վերցնել `student` դասի որևէ օբյեկտ (ով մի քանի առարկայից գնահատականներ ունի), հաշվել նրա միջին գնահատականն ու `WeightClass`-ը\n",
    "\n"
   ]
  },
  {
   "cell_type": "code",
   "execution_count": 88,
   "id": "comparable-winner",
   "metadata": {},
   "outputs": [],
   "source": [
    "class human:\n",
    "    def __init__ (self, name, surname, age = 0, height = 0, mass = 0):\n",
    "        self.age = age\n",
    "        self.height = height\n",
    "        self.mass = mass\n",
    "        self.name = name\n",
    "        self.surname = surname\n",
    "      \n",
    "    def BodyMassIndex(self):\n",
    "        return self.mass/(self.height**2)\n",
    "    \n",
    "    def WeightClass(self):\n",
    "        if (self.mass/(self.height**2) < 15):\n",
    "            return 'Very severely underweight'\n",
    "        if (self.mass/(self.height**2) > 15 and self.mass/(self.height**2) < 16):\n",
    "            return 'Severely underweight'\n",
    "        if (self.mass/(self.height**2) > 16 and self.mass/(self.height**2) < 18.5):\n",
    "            return 'Underweight'\n",
    "        if (self.mass/(self.height**2) > 18.5 and self.mass/(self.height**2) < 25):\n",
    "            return 'Normal'\n",
    "        if (self.mass/(self.height**2) > 25 and self.mass/(self.height**2) < 30):\n",
    "            return 'Overweight'\n",
    "        if (self.mass/(self.height**2) > 30 and self.mass/(self.height**2) < 35):\n",
    "            return 'Obese Class I'\n",
    "        if (self.mass/(self.height**2) > 35 and self.mass/(self.height**2) < 40):\n",
    "            return 'Obese Class II'\n",
    "        if (self.mass/(self.height**2) > 40):\n",
    "            return 'Obese Class III'"
   ]
  },
  {
   "cell_type": "code",
   "execution_count": 89,
   "id": "eastern-leader",
   "metadata": {},
   "outputs": [],
   "source": [
    "h = human(name = 'Anna', surname = 'Avetisyan', age = 35, height = 168, mass = 72)"
   ]
  },
  {
   "cell_type": "code",
   "execution_count": 90,
   "id": "premier-wages",
   "metadata": {},
   "outputs": [
    {
     "data": {
      "text/plain": [
       "0.002551020408163265"
      ]
     },
     "execution_count": 90,
     "metadata": {},
     "output_type": "execute_result"
    }
   ],
   "source": [
    "h.BodyMassIndex()"
   ]
  },
  {
   "cell_type": "code",
   "execution_count": 91,
   "id": "informal-thanks",
   "metadata": {},
   "outputs": [
    {
     "data": {
      "text/plain": [
       "'Very severely underweight'"
      ]
     },
     "execution_count": 91,
     "metadata": {},
     "output_type": "execute_result"
    }
   ],
   "source": [
    "h.WeightClass()"
   ]
  },
  {
   "cell_type": "code",
   "execution_count": 99,
   "id": "accompanied-lobby",
   "metadata": {},
   "outputs": [
    {
     "ename": "IndentationError",
     "evalue": "unindent does not match any outer indentation level (<tokenize>, line 9)",
     "output_type": "error",
     "traceback": [
      "\u001b[1;36m  File \u001b[1;32m\"<tokenize>\"\u001b[1;36m, line \u001b[1;32m9\u001b[0m\n\u001b[1;33m    def AverageGrade(self):\u001b[0m\n\u001b[1;37m    ^\u001b[0m\n\u001b[1;31mIndentationError\u001b[0m\u001b[1;31m:\u001b[0m unindent does not match any outer indentation level\n"
     ]
    }
   ],
   "source": [
    "class student(human):\n",
    "     def __init__ (self, institution, faculty, degree, year = 0, grades = 0):\n",
    "            self.institution = institution\n",
    "            self.faculty = faculty\n",
    "            self.degree = degree\n",
    "            self.year = year\n",
    "            self.grades = grades\n",
    "            human.__init__(self, name, surname, age = 0, height = 0, mass = 0)\n",
    "    def AverageGrade(self):\n",
    "            return np.average(self.grades)      "
   ]
  }
 ],
 "metadata": {
  "kernelspec": {
   "display_name": "Python 3",
   "language": "python",
   "name": "python3"
  },
  "language_info": {
   "codemirror_mode": {
    "name": "ipython",
    "version": 3
   },
   "file_extension": ".py",
   "mimetype": "text/x-python",
   "name": "python",
   "nbconvert_exporter": "python",
   "pygments_lexer": "ipython3",
   "version": "3.8.8"
  }
 },
 "nbformat": 4,
 "nbformat_minor": 5
}
